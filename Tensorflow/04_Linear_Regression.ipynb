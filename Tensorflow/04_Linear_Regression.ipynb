{
 "cells": [
  {
   "cell_type": "markdown",
   "metadata": {
    "colab_type": "text",
    "id": "7nDdR3N2R2PJ"
   },
   "source": [
    "<a href=\"https://practicalai.me\"><img src=\"https://raw.githubusercontent.com/practicalAI/images/master/images/rounded_logo.png\" width=\"100\" align=\"left\" hspace=\"20px\" vspace=\"20px\"></a>\n",
    "\n",
    "<img src=\"https://raw.githubusercontent.com/practicalAI/images/master/basic_ml/04_Linear_Regression/linear_regression.png\" width=\"150\" vspace=\"20px\" align=\"right\">\n",
    "\n",
    "<div align=\"left\">\n",
    "<h1>Linear Regression</h1>\n",
    "\n",
    "In this lesson we will learn about linear regression. We will understand the basic math behind it, implement it in Python. and then look at ways of interpreting the linear model.\n",
    "</div>"
   ]
  },
  {
   "cell_type": "markdown",
   "metadata": {
    "colab_type": "text",
    "id": "Izx6GIn_SETR"
   },
   "source": [
    "<table align=\"center\">\n",
    "  <td>\n",
    "<img src=\"https://raw.githubusercontent.com/practicalAI/images/master/images/rounded_logo.png\" width=\"25\"><a target=\"_blank\" href=\"https://practicalai.me\"> View on practicalAI</a>\n",
    "  </td>\n",
    "  <td>\n",
    "<img src=\"https://raw.githubusercontent.com/practicalAI/images/master/images/colab_logo.png\" width=\"25\"><a target=\"_blank\" href=\"https://colab.research.google.com/github/practicalAI/practicalAI/blob/master/notebooks/04_Linear_Regression.ipynb\"> Run in Google Colab</a>\n",
    "  </td>\n",
    "  <td>\n",
    "<img src=\"https://raw.githubusercontent.com/practicalAI/images/master/images/github_logo.png\" width=\"22\"><a target=\"_blank\" href=\"https://github.com/practicalAI/practicalAI/blob/master/notebooks/basic_ml/04_Linear_Regression.ipynb\"> View code on GitHub</a>\n",
    "  </td>\n",
    "</table>"
   ]
  },
  {
   "cell_type": "markdown",
   "metadata": {
    "colab_type": "text",
    "id": "VoMq0eFRvugb"
   },
   "source": [
    "# Overview"
   ]
  },
  {
   "cell_type": "markdown",
   "metadata": {
    "colab_type": "text",
    "id": "LaFUStk-24I4"
   },
   "source": [
    "Our goal is to learn a linear model $\\hat{y}$ that models $y$ given $X$. \n",
    "\n",
    "$\\hat{y} = XW + b$\n",
    "* $\\hat{y}$ = predictions | $\\in \\mathbb{R}^{NX1}$ ($N$ is the number of samples)\n",
    "* $X$ = inputs | $\\in \\mathbb{R}^{NXD}$ ($D$ is the number of features)\n",
    "* $W$ = weights | $\\in \\mathbb{R}^{DX1}$ \n",
    "* $b$ = bias | $\\in \\mathbb{R}^{1}$ "
   ]
  },
  {
   "cell_type": "markdown",
   "metadata": {
    "colab_type": "text",
    "id": "QAgr7Grv9pb6"
   },
   "source": [
    "* **Objective:**  Use inputs $X$ to predict the output $\\hat{y}$ using a linear model. The model will be a line of best fit that minimizes the distance between the predicted (model's output) and target (ground truth) values. Training data $(X, y)$ is used to train the model and learn the weights $W$ using gradient descent.\n",
    "* **Advantages:**\n",
    "  * Computationally simple.\n",
    "  * Highly interpretable.\n",
    "  * Can account for continuous and categorical features.\n",
    "* **Disadvantages:**\n",
    "  * The model will perform well only when the data is linearly separable (for classification).\n",
    "  * Usually not used for classification and only for regression.\n",
    "* **Miscellaneous:** You can also use linear regression for binary classification tasks where if the predicted continuous value is above a threshold, it belongs to a certain class. But we will cover better techniques for classification in future lessons and will focus on linear regression for continuous regression tasks only.\n"
   ]
  },
  {
   "cell_type": "markdown",
   "metadata": {
    "colab_type": "text",
    "id": "xP7XD24-09Io"
   },
   "source": [
    "### Training"
   ]
  },
  {
   "cell_type": "markdown",
   "metadata": {
    "colab_type": "text",
    "id": "476yPgTM1BKJ"
   },
   "source": [
    "1. Randomly initialize the model's weights $W$ (we'll cover more effective initalization strategies in future lessons).\n",
    "2. Feed inputs $X$ into the model to receive the predictions $\\hat{y}$.\n",
    "  * $\\hat{y} = XW + b$\n",
    "3. Compare the predictions $\\hat{y}$ with the actual target values $y$ using the objective (cost) function to determine the loss $J$. A common objective function for linear regression is mean squarred error (MSE). This function calculates the difference between the predicted and target values and squares it.\n",
    "\n",
    "  * $J(\\theta) = MSE = \\frac{1}{N} \\sum_i (y_i - \\hat{y}_i)^2 $\n",
    "    * ${y}$ = ground truth | $\\in \\mathbb{R}^{NX1}$\n",
    "    * $\\hat{y}$ = predictions | $\\in \\mathbb{R}^{NX1}$\n",
    "4. Calculate the gradient of loss $J(\\theta)$ w.r.t to the model weights.\n",
    "  * $J(\\theta) = \\frac{1}{N} \\sum_i (y_i - \\hat{y}_i)^2  = \\frac{1}{N}\\sum_i (y_i - X_iW)^2 $\n",
    "    * $\\frac{\\partial{J}}{\\partial{W}} = -\\frac{2}{N} \\sum_i (y_i - X_iW) X_i = -\\frac{2}{N} \\sum_i (y_i - \\hat{y}_i) X_i$\n",
    "    * $\\frac{\\partial{J}}{\\partial{b}} = -\\frac{2}{N} \\sum_i (y_i - X_iW)1 = -\\frac{2}{N} \\sum_i (y_i - \\hat{y}_i)1$\n",
    "5. Update the weights $W$ using a small learning rate $\\alpha$. The simplified intuition is that the gradient tells you the direction for how to increase something so subtracting it will help you go the other way since we want to decrease loss $J(\\theta)$:\n",
    "  * $W = W - \\alpha\\frac{\\partial{J}}{\\partial{W}}$\n",
    "  * $b = b - \\alpha\\frac{\\partial{J}}{\\partial{b}}$\n",
    "6. Repeat steps 2 - 5 to minimize the loss and train the model."
   ]
  },
  {
   "cell_type": "markdown",
   "metadata": {
    "colab_type": "text",
    "id": "wqEglvPJTifp"
   },
   "source": [
    "# Set up"
   ]
  },
  {
   "cell_type": "code",
   "execution_count": 1,
   "metadata": {
    "colab": {
     "base_uri": "https://localhost:8080/",
     "height": 34
    },
    "colab_type": "code",
    "id": "ebK53z_VctPM",
    "outputId": "c8ebb86c-8df7-4465-957c-569c2595cbd1"
   },
   "outputs": [
    {
     "name": "stderr",
     "output_type": "stream",
     "text": [
      "UsageError: Line magic function `%tensorflow_version` not found.\n"
     ]
    }
   ],
   "source": [
    "# Use TensorFlow 2.x\n",
    "%tensorflow_version 2.x"
   ]
  },
  {
   "cell_type": "code",
   "execution_count": 2,
   "metadata": {
    "colab": {},
    "colab_type": "code",
    "id": "HRXD7LqVJZ43"
   },
   "outputs": [],
   "source": [
    "import os\n",
    "import numpy as np\n",
    "import tensorflow as tf"
   ]
  },
  {
   "cell_type": "code",
   "execution_count": 3,
   "metadata": {
    "colab": {},
    "colab_type": "code",
    "id": "NFsKg-Z6IWqG"
   },
   "outputs": [],
   "source": [
    "# Arguments\n",
    "SEED = 1234\n",
    "SHUFFLE = True\n",
    "NUM_SAMPLES = 50\n",
    "TRAIN_SIZE = 0.7\n",
    "VAL_SIZE = 0.15\n",
    "TEST_SIZE = 0.15\n",
    "NUM_EPOCHS = 100\n",
    "BATCH_SIZE = 10\n",
    "INPUT_DIM = 1\n",
    "HIDDEN_DIM = 1\n",
    "LEARNING_RATE = 1e-1"
   ]
  },
  {
   "cell_type": "code",
   "execution_count": 4,
   "metadata": {
    "colab": {},
    "colab_type": "code",
    "id": "K8uaUq8XSsQ8"
   },
   "outputs": [],
   "source": [
    "# Set seed for reproducability\n",
    "np.random.seed(SEED)\n",
    "tf.random.set_seed(SEED)"
   ]
  },
  {
   "cell_type": "markdown",
   "metadata": {
    "colab_type": "text",
    "id": "jvJKjkMeJP4Q"
   },
   "source": [
    "# Data"
   ]
  },
  {
   "cell_type": "markdown",
   "metadata": {
    "colab_type": "text",
    "id": "RuPl9qlSJTIY"
   },
   "source": [
    "We're going to create some simple dummy data to apply linear regression on."
   ]
  },
  {
   "cell_type": "code",
   "execution_count": 5,
   "metadata": {
    "colab": {},
    "colab_type": "code",
    "id": "w5T7yGfiEQnx"
   },
   "outputs": [],
   "source": [
    "import matplotlib.pyplot as plt\n",
    "import pandas as pd"
   ]
  },
  {
   "cell_type": "markdown",
   "metadata": {
    "colab_type": "text",
    "id": "l_a--YWXdwig"
   },
   "source": [
    "### Components"
   ]
  },
  {
   "cell_type": "markdown",
   "metadata": {
    "colab_type": "text",
    "id": "McZ7wHsve61A"
   },
   "source": [
    "We're going to create some dummy data to train our linear regression model on. We're going to create roughly linear data (`y = 3.5X + 10`) with some random noise so the points don't all align in a straight line. Our goal is to have the model converge to a similar linear equation (there will be slight variance since we added some noise)."
   ]
  },
  {
   "cell_type": "code",
   "execution_count": 6,
   "metadata": {
    "colab": {},
    "colab_type": "code",
    "id": "jNWcn3uadzpJ"
   },
   "outputs": [],
   "source": [
    "# Generate synthetic data\n",
    "def generate_data(num_samples):\n",
    "    \"\"\"Generate dummy data for linear regression.\"\"\"\n",
    "    X = np.array(range(num_samples))\n",
    "    random_noise = np.random.uniform(-10,20,size=num_samples)\n",
    "    y = 3.5*X + random_noise # add some noise\n",
    "    return X, y"
   ]
  },
  {
   "cell_type": "markdown",
   "metadata": {
    "colab_type": "text",
    "id": "ppGTtKRrdwgF"
   },
   "source": [
    "### Operations"
   ]
  },
  {
   "cell_type": "markdown",
   "metadata": {
    "colab_type": "text",
    "id": "4f9KSJR6flBt"
   },
   "source": [
    "Now let's load the data onto a dataframe and visualize it."
   ]
  },
  {
   "cell_type": "code",
   "execution_count": 13,
   "metadata": {
    "colab": {
     "base_uri": "https://localhost:8080/",
     "height": 204
    },
    "colab_type": "code",
    "id": "2mb2SjSQIWvF",
    "outputId": "5a96430d-6776-4356-d685-2ce7fd7ddf26"
   },
   "outputs": [
    {
     "data": {
      "text/html": [
       "<div>\n",
       "<style scoped>\n",
       "    .dataframe tbody tr th:only-of-type {\n",
       "        vertical-align: middle;\n",
       "    }\n",
       "\n",
       "    .dataframe tbody tr th {\n",
       "        vertical-align: top;\n",
       "    }\n",
       "\n",
       "    .dataframe thead th {\n",
       "        text-align: right;\n",
       "    }\n",
       "</style>\n",
       "<table border=\"1\" class=\"dataframe\">\n",
       "  <thead>\n",
       "    <tr style=\"text-align: right;\">\n",
       "      <th></th>\n",
       "      <th>X</th>\n",
       "      <th>y</th>\n",
       "    </tr>\n",
       "  </thead>\n",
       "  <tbody>\n",
       "    <tr>\n",
       "      <th>0</th>\n",
       "      <td>0.0</td>\n",
       "      <td>-1.423670</td>\n",
       "    </tr>\n",
       "    <tr>\n",
       "      <th>1</th>\n",
       "      <td>1.0</td>\n",
       "      <td>23.102416</td>\n",
       "    </tr>\n",
       "    <tr>\n",
       "      <th>2</th>\n",
       "      <td>2.0</td>\n",
       "      <td>9.954025</td>\n",
       "    </tr>\n",
       "    <tr>\n",
       "      <th>3</th>\n",
       "      <td>3.0</td>\n",
       "      <td>17.727032</td>\n",
       "    </tr>\n",
       "    <tr>\n",
       "      <th>4</th>\n",
       "      <td>4.0</td>\n",
       "      <td>19.817262</td>\n",
       "    </tr>\n",
       "  </tbody>\n",
       "</table>\n",
       "</div>"
      ],
      "text/plain": [
       "     X          y\n",
       "0  0.0  -1.423670\n",
       "1  1.0  23.102416\n",
       "2  2.0   9.954025\n",
       "3  3.0  17.727032\n",
       "4  4.0  19.817262"
      ]
     },
     "execution_count": 13,
     "metadata": {},
     "output_type": "execute_result"
    }
   ],
   "source": [
    "# Generate random (linear) data\n",
    "X, y = generate_data(num_samples=NUM_SAMPLES)\n",
    "data = np.vstack([X, y]).T\n",
    "df = pd.DataFrame(data, columns=['X', 'y'])\n",
    "X = df[['X']].values\n",
    "y = df[['y']].values\n",
    "df.head()"
   ]
  },
  {
   "cell_type": "code",
   "execution_count": 14,
   "metadata": {
    "colab": {
     "base_uri": "https://localhost:8080/",
     "height": 281
    },
    "colab_type": "code",
    "id": "6LwVVOkiLfBN",
    "outputId": "ed7e32c6-c0e2-447c-ad0c-dc4e4d734597"
   },
   "outputs": [
    {
     "data": {
      "image/png": "[encoded data removed]",
      "text/plain": [
       "<Figure size 432x288 with 1 Axes>"
      ]
     },
     "metadata": {
      "needs_background": "light"
     },
     "output_type": "display_data"
    }
   ],
   "source": [
    "# Scatter plot\n",
    "plt.title(\"Generated data\")\n",
    "plt.scatter(x=df['X'], y=df['y'])\n",
    "plt.show()"
   ]
  },
  {
   "cell_type": "markdown",
   "metadata": {
    "colab_type": "text",
    "id": "Qwn29SjK-XCg"
   },
   "source": [
    "# Split data\n",
    "\n"
   ]
  },
  {
   "cell_type": "code",
   "execution_count": 15,
   "metadata": {
    "colab": {},
    "colab_type": "code",
    "id": "8Z0Nl1Oy3eOJ"
   },
   "outputs": [],
   "source": [
    "from sklearn.model_selection import train_test_split"
   ]
  },
  {
   "cell_type": "markdown",
   "metadata": {
    "colab_type": "text",
    "id": "q_bbSMUZ3e3m"
   },
   "source": [
    "### Components"
   ]
  },
  {
   "cell_type": "markdown",
   "metadata": {
    "colab_type": "text",
    "id": "-XAIAT-QoKn1"
   },
   "source": [
    "Since our task is a regression task, we will randomly split our dataset into **three** sets: train, validation and test data splits.\n",
    "\n",
    "* train: used to train our model.\n",
    "* val : used to validate our model's performance during training.\n",
    "* test: used to do an evaluation of our fully trained model."
   ]
  },
  {
   "cell_type": "markdown",
   "metadata": {
    "colab_type": "text",
    "id": "9wIw3j4Z_0ya"
   },
   "source": [
    "<div align=\"left\">\n",
    "<img src=\"https://raw.githubusercontent.com/practicalAI/images/master/images/lightbulb.gif\" width=\"45px\" align=\"left\" hspace=\"10px\">\n",
    "</div>\n",
    "Splitting the data for classification tasks are a bit different in that we want similar class distributions in each data split. We'll see this in action in the next lesson."
   ]
  },
  {
   "cell_type": "code",
   "execution_count": 16,
   "metadata": {
    "colab": {},
    "colab_type": "code",
    "id": "uKmBKodpgHEE"
   },
   "outputs": [],
   "source": [
    "def train_val_test_split(X, y, val_size, test_size, shuffle):\n",
    "    \"\"\"Split data into train/val/test datasets.\n",
    "    \"\"\"\n",
    "    X_train, X_test, y_train, y_test = train_test_split(X, y, test_size=test_size, shuffle=shuffle)\n",
    "    \n",
    "    \n",
    "    X_train, X_val, y_train, y_val = train_test_split(X_train, y_train, test_size=val_size, shuffle=shuffle)\n",
    "    \n",
    "    return X_train, X_val, X_test, y_train, y_val, y_test"
   ]
  },
  {
   "cell_type": "markdown",
   "metadata": {
    "colab_type": "text",
    "id": "2SFTiscx3gNi"
   },
   "source": [
    "### Operations"
   ]
  },
  {
   "cell_type": "code",
   "execution_count": 17,
   "metadata": {
    "colab": {
     "base_uri": "https://localhost:8080/",
     "height": 102
    },
    "colab_type": "code",
    "id": "WuUQwD72NVAE",
    "outputId": "2eb09cdd-d96a-4242-80d3-20222efa1e41"
   },
   "outputs": [
    {
     "name": "stdout",
     "output_type": "stream",
     "text": [
      "X_train: (35, 1), y_train: (35, 1)\n",
      "X_val: (7, 1), y_test: (7, 1)\n",
      "X_test: (8, 1), y_test: (8, 1)\n",
      "X_train[0]: [15.]\n",
      "y_train[0]: [51.00911247]\n"
     ]
    }
   ],
   "source": [
    "# Create data splits\n",
    "X_train, X_val, X_test, y_train, y_val, y_test = train_val_test_split(X, y, val_size=VAL_SIZE, test_size=TEST_SIZE, shuffle=SHUFFLE)\n",
    "\n",
    "\n",
    "print (f\"X_train: {X_train.shape}, y_train: {y_train.shape}\")\n",
    "print (f\"X_val: {X_val.shape}, y_test: {y_val.shape}\")\n",
    "print (f\"X_test: {X_test.shape}, y_test: {y_test.shape}\")\n",
    "print (f\"X_train[0]: {X_train[0]}\")\n",
    "print (f\"y_train[0]: {y_train[0]}\")"
   ]
  },
  {
   "cell_type": "markdown",
   "metadata": {
    "colab_type": "text",
    "id": "U-Eksj89d_yv"
   },
   "source": [
    "# Standardize data"
   ]
  },
  {
   "cell_type": "markdown",
   "metadata": {
    "colab_type": "text",
    "id": "MJVs6JF7trja"
   },
   "source": [
    "We need to standardize our data (zero mean and unit variance) in order to optimize quickly."
   ]
  },
  {
   "cell_type": "markdown",
   "metadata": {
    "colab_type": "text",
    "id": "yD7GFSnvsFfg"
   },
   "source": [
    "$z = \\frac{x_i - \\mu}{\\sigma}$\n",
    "* $z$ = standardized value\n",
    "* $x_i$ = inputs\n",
    "* $\\mu$ = mean\n",
    "* $\\sigma$ = standard deviation"
   ]
  },
  {
   "cell_type": "code",
   "execution_count": 18,
   "metadata": {
    "colab": {},
    "colab_type": "code",
    "id": "VlOYPD5GRjRC"
   },
   "outputs": [],
   "source": [
    "from sklearn.preprocessing import StandardScaler"
   ]
  },
  {
   "cell_type": "code",
   "execution_count": 27,
   "metadata": {
    "colab": {},
    "colab_type": "code",
    "id": "CiE3oLCkOCEa"
   },
   "outputs": [],
   "source": [
    "# Standardize the data (mean=0, std=1) using training data\n",
    "X_scaler = StandardScaler().fit(X_train)\n",
    "y_scaler = StandardScaler().fit(y_train)"
   ]
  },
  {
   "cell_type": "code",
   "execution_count": 28,
   "metadata": {
    "colab": {},
    "colab_type": "code",
    "id": "E7dKUyWGJ4Av"
   },
   "outputs": [],
   "source": [
    "# Apply scaler on training and test data\n",
    "standardized_X_train = X_scaler.transform(X_train)\n",
    "standardized_y_train = y_scaler.transform(y_train).ravel()\n",
    "standardized_X_val = X_scaler.transform(X_val)\n",
    "standardized_y_val = y_scaler.transform(y_val).ravel()\n",
    "standardized_X_test = X_scaler.transform(X_test)\n",
    "standardized_y_test = y_scaler.transform(y_test).ravel()"
   ]
  },
  {
   "cell_type": "code",
   "execution_count": 29,
   "metadata": {
    "colab": {
     "base_uri": "https://localhost:8080/",
     "height": 119
    },
    "colab_type": "code",
    "id": "3JC-YFYFJ39Z",
    "outputId": "3cfb0813-841b-4640-bbbf-4715e5afab20"
   },
   "outputs": [
    {
     "name": "stdout",
     "output_type": "stream",
     "text": [
      "standardized_X_train: mean: 5.075305255429287e-17, std: 0.9999999999999999\n",
      "standardized_y_train: mean: -1.1419436824715895e-16, std: 0.9999999999999999\n",
      "standardized_X_val: mean: 0.8544098211821912, std: 0.6257842144512111\n",
      "standardized_y_val: mean: 0.9735933655206118, std: 0.6524539116981858\n",
      "standardized_X_test: mean: -0.20997797924415268, std: 0.776904278651562\n",
      "standardized_y_test: mean: -0.251945760795198, std: 0.7798137320223993\n"
     ]
    }
   ],
   "source": [
    "# Check (means should be ~0 and std should be ~1)\n",
    "print (f\"standardized_X_train: mean: {np.mean(standardized_X_train, axis=0)[0]}, std: {np.std(standardized_X_train, axis=0)[0]}\")\n",
    "print (f\"standardized_y_train: mean: {np.mean(standardized_y_train, axis=0)}, std: {np.std(standardized_y_train, axis=0)}\")\n",
    "print (f\"standardized_X_val: mean: {np.mean(standardized_X_val, axis=0)[0]}, std: {np.std(standardized_X_val, axis=0)[0]}\")\n",
    "print (f\"standardized_y_val: mean: {np.mean(standardized_y_val, axis=0)}, std: {np.std(standardized_y_val, axis=0)}\")\n",
    "print (f\"standardized_X_test: mean: {np.mean(standardized_X_test, axis=0)[0]}, std: {np.std(standardized_X_test, axis=0)[0]}\")\n",
    "print (f\"standardized_y_test: mean: {np.mean(standardized_y_test, axis=0)}, std: {np.std(standardized_y_test, axis=0)}\")"
   ]
  },
  {
   "cell_type": "markdown",
   "metadata": {
    "colab_type": "text",
    "id": "sdruDHf_laWg"
   },
   "source": [
    "# From scratch\n",
    "\n",
    "Before we use TensorFlow 2.0 + Keras we will implent linear regression from scratch using NumPy so we can:\n",
    "1. Absorb the fundamental concepts by implementing from scratch\n",
    "2. Appreciate the level of abstraction TensorFlow provides\n",
    "\n",
    "<div align=\"left\">\n",
    "<img src=\"https://raw.githubusercontent.com/practicalAI/images/master/images/lightbulb.gif\" width=\"45px\" align=\"left\" hspace=\"10px\">\n",
    "</div>\n",
    "\n",
    "It's normal to find the math and code in this section slightly complex. You can still read each of the steps to build intuition for when we implement this using TensorFlow + Keras."
   ]
  },
  {
   "cell_type": "code",
   "execution_count": 35,
   "metadata": {
    "colab": {
     "base_uri": "https://localhost:8080/"
    },
    "colab_type": "code",
    "id": "U4Prl8dDl-T4",
    "outputId": "55ef92c1-4e73-4a63-ff51-9d3965cf5bc9"
   },
   "outputs": [
    {
     "name": "stdout",
     "output_type": "stream",
     "text": [
      "X: (35, 1)\n",
      "y: (35, 1)\n"
     ]
    },
    {
     "data": {
      "text/plain": [
       "array([[-0.66407964],\n",
       "       [-1.33468496],\n",
       "       [-1.07518349],\n",
       "       [ 1.06699031],\n",
       "       [-0.12049641],\n",
       "       [ 0.87711147],\n",
       "       [ 1.22098308],\n",
       "       [-1.30108031],\n",
       "       [ 0.14476735],\n",
       "       [ 0.5081731 ],\n",
       "       [-0.08167484],\n",
       "       [ 1.51237107],\n",
       "       [ 1.53027096],\n",
       "       [ 1.39509759],\n",
       "       [ 0.06027359],\n",
       "       [-0.19300744],\n",
       "       [-0.87041093],\n",
       "       [ 1.48106887],\n",
       "       [-0.12704813],\n",
       "       [-0.72729706],\n",
       "       [-1.26107446],\n",
       "       [-1.38333096],\n",
       "       [ 0.01740318],\n",
       "       [-0.987311  ],\n",
       "       [-0.7519051 ],\n",
       "       [ 0.35962056],\n",
       "       [ 1.81914562],\n",
       "       [-1.6676142 ],\n",
       "       [ 0.2865345 ],\n",
       "       [-0.24898233],\n",
       "       [-0.80116349],\n",
       "       [ 1.42919148],\n",
       "       [ 0.54439999],\n",
       "       [ 0.54114047],\n",
       "       [-1.19819842]])"
      ]
     },
     "execution_count": 35,
     "metadata": {},
     "output_type": "execute_result"
    }
   ],
   "source": [
    "standardized_y_train = standardized_y_train.reshape(-1, 1)\n",
    "print (f\"X: {standardized_X_train.shape}\")\n",
    "print (f\"y: {standardized_y_train.shape}\")\n",
    "standardized_y_train"
   ]
  },
  {
   "cell_type": "markdown",
   "metadata": {
    "colab_type": "text",
    "id": "R8vzjUSW-05x"
   },
   "source": [
    "Our goal is to learn a linear model $\\hat{y}$ that models $y$ given $X$. \n",
    "\n",
    "$\\hat{y} = XW + b$\n",
    "* $\\hat{y}$ = predictions | $\\in \\mathbb{R}^{NX1}$ ($N$ is the number of samples)\n",
    "* $X$ = inputs | $\\in \\mathbb{R}^{NXD}$ ($D$ is the number of features)\n",
    "* $W$ = weights | $\\in \\mathbb{R}^{DX1}$ \n",
    "* $b$ = bias | $\\in \\mathbb{R}^{1}$ "
   ]
  },
  {
   "cell_type": "markdown",
   "metadata": {
    "colab_type": "text",
    "id": "R1QzuBFM8by6"
   },
   "source": [
    "1.   Randomly initialize the model's weights $W$."
   ]
  },
  {
   "cell_type": "code",
   "execution_count": 36,
   "metadata": {
    "colab": {
     "base_uri": "https://localhost:8080/"
    },
    "colab_type": "code",
    "id": "KJrD1GiCl-bX",
    "outputId": "43c0157f-47a3-4099-d400-50062b6e45b2"
   },
   "outputs": [
    {
     "name": "stdout",
     "output_type": "stream",
     "text": [
      "W: (1, 1)\n",
      "b: (1, 1)\n"
     ]
    }
   ],
   "source": [
    "# Initialize random weights\n",
    "W = 0.01 * np.random.randn(INPUT_DIM, 1)\n",
    "b = np.zeros((1, 1))\n",
    "print (f\"W: {W.shape}\")\n",
    "print (f\"b: {b.shape}\")"
   ]
  },
  {
   "cell_type": "markdown",
   "metadata": {
    "colab_type": "text",
    "id": "0IptdjlS8sBw"
   },
   "source": [
    "2. Feed inputs $X$ into the model to receive the predictions $\\hat{y}$.\n",
    "  * $\\hat{y} = XW + b$"
   ]
  },
  {
   "cell_type": "code",
   "execution_count": 37,
   "metadata": {
    "colab": {
     "base_uri": "https://localhost:8080/"
    },
    "colab_type": "code",
    "id": "_RQsyPW4sSLb",
    "outputId": "449589ec-558f-4925-8621-ce9f652a97c8"
   },
   "outputs": [
    {
     "name": "stdout",
     "output_type": "stream",
     "text": [
      "y_hat: (35, 1)\n"
     ]
    }
   ],
   "source": [
    "# Forward pass [NX1] · [1X1] = [NX1]\n",
    "y_hat = np.dot(standardized_X_train, W) + b\n",
    "print (f\"y_hat: {y_hat.shape}\")"
   ]
  },
  {
   "cell_type": "markdown",
   "metadata": {
    "colab_type": "text",
    "id": "W5ZTGKol84VO"
   },
   "source": [
    "3. Compare the predictions $\\hat{y}$ with the actual target values $y$ using the objective (cost) function to determine the loss $J$. A common objective function for linear regression is mean squarred error (MSE). This function calculates the difference between the predicted and target values and squares it.\n",
    "\n",
    "  * $J(\\theta) = MSE = \\frac{1}{N} \\sum_{i-1}^{N} (y_i - \\hat{y}_i)^2 $\n",
    "    * ${y}$ = ground truth | $\\in \\mathbb{R}^{NX1}$\n",
    "    * $\\hat{y}$ = predictions | $\\in \\mathbb{R}^{NX1}$"
   ]
  },
  {
   "cell_type": "code",
   "execution_count": 38,
   "metadata": {
    "colab": {
     "base_uri": "https://localhost:8080/"
    },
    "colab_type": "code",
    "id": "Cqs_50xcsSkm",
    "outputId": "eb89f7c8-63c5-49b3-e94e-654519728168"
   },
   "outputs": [
    {
     "name": "stdout",
     "output_type": "stream",
     "text": [
      "loss: 1.03\n"
     ]
    }
   ],
   "source": [
    "# Loss\n",
    "N = len(standardized_y_train)\n",
    "loss = (1/N) * np.sum((standardized_y_train - y_hat)**2)\n",
    "print (f\"loss: {loss:.2f}\")"
   ]
  },
  {
   "cell_type": "markdown",
   "metadata": {
    "colab_type": "text",
    "id": "hBQ59qNs90-u"
   },
   "source": [
    "4. Calculate the gradient of loss $J(\\theta)$ w.r.t to the model weights.\n",
    "  * $J(\\theta) = \\frac{1}{N} \\sum_i (y_i - \\hat{y}_i)^2  = \\frac{1}{N}\\sum_i (y_i - X_iW)^2 $\n",
    "    * $\\frac{\\partial{J}}{\\partial{W}} = -\\frac{2}{N} \\sum_i (y_i - X_iW) X_i = -\\frac{2}{N} \\sum_i (y_i - \\hat{y}_i) X_i$\n",
    "    * $\\frac{\\partial{J}}{\\partial{W}} = -\\frac{2}{N} \\sum_i (y_i - X_iW)1 = -\\frac{2}{N} \\sum_i (y_i - \\hat{y}_i)1$"
   ]
  },
  {
   "cell_type": "code",
   "execution_count": 39,
   "metadata": {
    "colab": {},
    "colab_type": "code",
    "id": "NlN9F8bysSiP"
   },
   "outputs": [],
   "source": [
    "# Backpropagation\n",
    "dW = -(2/N) * np.sum((standardized_y_train - y_hat) * standardized_X_train)\n",
    "db = -(2/N) * np.sum((standardized_y_train - y_hat) * 1)"
   ]
  },
  {
   "cell_type": "markdown",
   "metadata": {
    "colab_type": "text",
    "id": "vA8K64TF_fRD"
   },
   "source": [
    "5. Update the weights $W$ using a small learning rate $\\alpha$. The simplified intuition is that the gradient tells you the direction for how to increase something so subtracting it will help you go the other way since we want to decrease loss $J(\\theta)$:\n",
    "  * $W = W - \\alpha\\frac{\\partial{J}}{\\partial{W}}$\n",
    "  * $b = b - \\alpha\\frac{\\partial{J}}{\\partial{b}}$"
   ]
  },
  {
   "cell_type": "code",
   "execution_count": 40,
   "metadata": {
    "colab": {},
    "colab_type": "code",
    "id": "nBa96kSXvDnJ"
   },
   "outputs": [],
   "source": [
    "# Update weights\n",
    "W += -LEARNING_RATE * dW\n",
    "b += -LEARNING_RATE * db"
   ]
  },
  {
   "cell_type": "markdown",
   "metadata": {
    "colab_type": "text",
    "id": "3b0P4Ls6_thq"
   },
   "source": [
    "6. Repeat steps 2 - 5 to minimize the loss and train the model."
   ]
  },
  {
   "cell_type": "code",
   "execution_count": 41,
   "metadata": {
    "colab": {
     "base_uri": "https://localhost:8080/"
    },
    "colab_type": "code",
    "id": "xF6_RVuul-ZJ",
    "outputId": "d6dc9f2a-e5ad-465a-d8ed-dd8098bb836a"
   },
   "outputs": [
    {
     "name": "stdout",
     "output_type": "stream",
     "text": [
      "Epoch: 0, loss: 1.015\n",
      "Epoch: 10, loss: 0.043\n",
      "Epoch: 20, loss: 0.032\n",
      "Epoch: 30, loss: 0.032\n",
      "Epoch: 40, loss: 0.032\n",
      "Epoch: 50, loss: 0.032\n",
      "Epoch: 60, loss: 0.032\n",
      "Epoch: 70, loss: 0.032\n",
      "Epoch: 80, loss: 0.032\n",
      "Epoch: 90, loss: 0.032\n"
     ]
    }
   ],
   "source": [
    "# Initialize random weights\n",
    "W = 0.01 * np.random.randn(INPUT_DIM, 1)\n",
    "b = np.zeros((1,1 ))\n",
    "\n",
    "# Training loop\n",
    "for epoch_num in range(NUM_EPOCHS):\n",
    "\n",
    "    # Forward pass [NX1] · [1X1] = [NX1]\n",
    "    y_hat = np.dot(standardized_X_train, W) + b\n",
    "\n",
    "    # Loss\n",
    "    loss = (1/len(standardized_y_train)) * np.sum((standardized_y_train - y_hat)**2)\n",
    "\n",
    "    # show progress\n",
    "    if epoch_num%10 == 0:\n",
    "        print (f\"Epoch: {epoch_num}, loss: {loss:.3f}\")\n",
    "\n",
    "    # Backpropagation\n",
    "    dW = -(2/N) * np.sum((standardized_y_train - y_hat) * standardized_X_train)\n",
    "    db = -(2/N) * np.sum((standardized_y_train - y_hat) * 1)\n",
    "\n",
    "    # Update weights\n",
    "    W += -LEARNING_RATE * dW\n",
    "    b += -LEARNING_RATE * db"
   ]
  },
  {
   "cell_type": "code",
   "execution_count": 42,
   "metadata": {
    "colab": {},
    "colab_type": "code",
    "id": "fcIUx6d-69_g"
   },
   "outputs": [],
   "source": [
    "# Predictions \n",
    "pred_train = W*standardized_X_train + b\n",
    "pred_test = W*standardized_X_test + b"
   ]
  },
  {
   "cell_type": "code",
   "execution_count": 43,
   "metadata": {
    "colab": {
     "base_uri": "https://localhost:8080/"
    },
    "colab_type": "code",
    "id": "WB_c9ek16-FC",
    "outputId": "2b9b8568-6e6d-48ec-98d9-cb48fedda2dc"
   },
   "outputs": [
    {
     "name": "stdout",
     "output_type": "stream",
     "text": [
      "train_MSE: 0.03, test_MSE: 1.19\n"
     ]
    }
   ],
   "source": [
    "# Train and test MSE\n",
    "train_mse = np.mean((standardized_y_train - pred_train) ** 2)\n",
    "test_mse = np.mean((standardized_y_test - pred_test) ** 2)\n",
    "print (f\"train_MSE: {train_mse:.2f}, test_MSE: {test_mse:.2f}\")"
   ]
  },
  {
   "cell_type": "code",
   "execution_count": 44,
   "metadata": {
    "colab": {
     "base_uri": "https://localhost:8080/"
    },
    "colab_type": "code",
    "id": "by9uqJbC699J",
    "outputId": "52652814-cfa3-4d39-8d58-a085c2cab0ea",
    "scrolled": true
   },
   "outputs": [
    {
     "data": {
      "image/png": "[encoded data removed]",
      "text/plain": [
       "<Figure size 1080x360 with 2 Axes>"
      ]
     },
     "metadata": {
      "needs_background": "light"
     },
     "output_type": "display_data"
    }
   ],
   "source": [
    "# Figure size\n",
    "plt.figure(figsize=(15,5))\n",
    "\n",
    "# Plot train data\n",
    "plt.subplot(1, 2, 1)\n",
    "plt.title(\"Train\")\n",
    "plt.scatter(standardized_X_train, standardized_y_train, label='y_train')\n",
    "plt.plot(standardized_X_train, pred_train, color='red', linewidth=1, linestyle='-', label='model')\n",
    "plt.legend(loc='lower right')\n",
    "\n",
    "# Plot test data\n",
    "plt.subplot(1, 2, 2)\n",
    "plt.title(\"Test\")\n",
    "plt.scatter(standardized_X_test, standardized_y_test, label='y_test')\n",
    "plt.plot(standardized_X_test, pred_test, color='red', linewidth=1, linestyle='-', label='model')\n",
    "plt.legend(loc='lower right')\n",
    "\n",
    "# Show plots\n",
    "plt.show()"
   ]
  },
  {
   "cell_type": "markdown",
   "metadata": {
    "colab_type": "text",
    "id": "S3MlFkZ8_der"
   },
   "source": [
    "Since we standardized our inputs and outputs, our weights were fit to those standardized values. So we need to unstandardize our weights so we can compare it to our true weight (3.5).\n",
    "\n",
    "Note that both X and y were standardized.\n",
    "\n",
    "$\\hat{y}_{scaled} = b_{scaled} + \\sum_{j=1}^{k}W_{{scaled}_j}x_{{scaled}_j}$\n",
    "* $y_{scaled} = \\frac{\\hat{y} - \\bar{y}}{\\sigma_y}$\n",
    "* $x_{scaled} = \\frac{x_j - \\bar{x}_j}{\\sigma_j}$\n",
    "\n",
    "$\\frac{\\hat{y} - \\bar{y}}{\\sigma_y} = b_{scaled} + \\sum_{j=1}^{k}W_{{scaled}_j}\\frac{x_j - \\bar{x}_j}{\\sigma_j}$\n",
    "\n",
    "$ \\hat{y}_{scaled} = \\frac{\\hat{y}_{unscaled} - \\bar{y}}{\\sigma_y} = {b_{scaled}} + \\sum_{j=1}^{k} {W}_{{scaled}_j} (\\frac{x_j - \\bar{x}_j}{\\sigma_j}) $\n",
    "\n",
    "$\\hat{y}_{unscaled} = b_{scaled}\\sigma_y + \\bar{y} - \\sum_{j=1}^{k} {W}_{{scaled}_j}(\\frac{\\sigma_y}{\\sigma_j})\\bar{x}_j + \\sum_{j=1}^{k}{W}_{{scaled}_j}(\\frac{\\sigma_y}{\\sigma_j})x_j $\n",
    "\n",
    "In the expression above, we can see the expression $\\hat{y}_{unscaled} = W_{unscaled}x + b_{unscaled} $ where\n",
    "\n",
    "* $W_{unscaled} = \\sum_{j=1}^{k}{W}_j(\\frac{\\sigma_y}{\\sigma_j}) $\n",
    "\n",
    "* $b_{unscaled} = b_{scaled}\\sigma_y + \\bar{y} - \\sum_{j=1}^{k} {W}_j(\\frac{\\sigma_y}{\\sigma_j})\\bar{x}_j$\n",
    "\n",
    "\n",
    "\n"
   ]
  },
  {
   "cell_type": "code",
   "execution_count": 47,
   "metadata": {
    "colab": {
     "base_uri": "https://localhost:8080/"
    },
    "colab_type": "code",
    "id": "C-PcjG4G2TRq",
    "outputId": "74ac88ec-1c1a-4747-bd82-7902f9318bf7"
   },
   "outputs": [
    {
     "name": "stdout",
     "output_type": "stream",
     "text": [
      "[actual] y = 3.5X + noise\n",
      "[model] y_hat = 3.4779679763175992X + [4.91778952]\n"
     ]
    }
   ],
   "source": [
    "# Unscaled weights\n",
    "W_unscaled = W * (y_scaler.scale_/X_scaler.scale_)\n",
    "b_unscaled = b * y_scaler.scale_ + y_scaler.mean_ - np.sum(W_unscaled*X_scaler.mean_)\n",
    "print (\"[actual] y = 3.5X + noise\")\n",
    "print (f\"[model] y_hat = {W_unscaled[0][0]}X + {b_unscaled[0]}\") \n"
   ]
  },
  {
   "cell_type": "markdown",
   "metadata": {
    "colab_type": "text",
    "id": "LD5m4v1A9nqF"
   },
   "source": [
    "Now let's implement linear regression with TensorFlow + Keras."
   ]
  },
  {
   "cell_type": "markdown",
   "metadata": {
    "colab_type": "text",
    "id": "33NIijOMKqZF"
   },
   "source": [
    "# TensorFlow + Keras"
   ]
  },
  {
   "cell_type": "markdown",
   "metadata": {
    "colab_type": "text",
    "id": "wCuIxAH7KuwG"
   },
   "source": [
    "We will be using [Dense layers](https://www.tensorflow.org/versions/r2.0/api_docs/python/tf/keras/layers/Dense) in our MLP implementation. The layer applies an activation function on the dot product of the layer's inputs and its weights.\n",
    "\n",
    "$ z = \\text{activation}(XW)$"
   ]
  },
  {
   "cell_type": "code",
   "execution_count": 0,
   "metadata": {
    "colab": {},
    "colab_type": "code",
    "id": "QvjSlcsfKqjY"
   },
   "outputs": [],
   "source": [
    "from tensorflow.keras.layers import Dense\n",
    "from tensorflow.keras.layers import Input"
   ]
  },
  {
   "cell_type": "code",
   "execution_count": 0,
   "metadata": {
    "colab": {
     "base_uri": "https://localhost:8080/",
     "height": 34
    },
    "colab_type": "code",
    "id": "07hfw6dcK_jo",
    "outputId": "c05d40b6-a1ec-4bfc-b72f-c102fde37ecd"
   },
   "outputs": [
    {
     "name": "stdout",
     "output_type": "stream",
     "text": [
      "z (None, 1) = x (None, 1) · W (1, 1) + b (1,)\n"
     ]
    }
   ],
   "source": [
    "x = Input(shape=(INPUT_DIM,))\n",
    "fc = Dense(units=HIDDEN_DIM, activation='linear')\n",
    "z = fc(x)\n",
    "W, b = fc.weights\n",
    "print (f\"z {z.shape} = x {x.shape} · W {W.shape} + b {b.shape}\")"
   ]
  },
  {
   "cell_type": "markdown",
   "metadata": {
    "colab_type": "text",
    "id": "4drnbzryeVsD"
   },
   "source": [
    "# Model"
   ]
  },
  {
   "cell_type": "code",
   "execution_count": 0,
   "metadata": {
    "colab": {},
    "colab_type": "code",
    "id": "sGH_pQaDOb49"
   },
   "outputs": [],
   "source": [
    "from tensorflow.keras.layers import Dense\n",
    "from tensorflow.keras.layers import Input\n",
    "from tensorflow.keras.losses import MeanSquaredError\n",
    "from tensorflow.keras.metrics import MeanAbsolutePercentageError\n",
    "from tensorflow.keras.models import Model\n",
    "from tensorflow.keras.optimizers import Adam"
   ]
  },
  {
   "cell_type": "code",
   "execution_count": 0,
   "metadata": {
    "colab": {},
    "colab_type": "code",
    "id": "V-3zRdoIeaas"
   },
   "outputs": [],
   "source": [
    "# Linear regression\n",
    "class LinearRegression(Model):\n",
    "    def __init__(self, hidden_dim):\n",
    "        super(LinearRegression, self).__init__()\n",
    "        self.fc1 = Dense(units=hidden_dim, activation='linear')\n",
    "        \n",
    "    def call(self, x_in, training=False):\n",
    "        \"\"\"Forward pass.\"\"\"\n",
    "        y_pred = self.fc1(x_in)\n",
    "        return y_pred\n",
    "    \n",
    "    def sample(self, input_shape):\n",
    "        x_in = Input(shape=input_shape)\n",
    "        return Model(inputs=x_in, outputs=self.call(x_in)).summary()"
   ]
  },
  {
   "cell_type": "code",
   "execution_count": 0,
   "metadata": {
    "colab": {
     "base_uri": "https://localhost:8080/",
     "height": 221
    },
    "colab_type": "code",
    "id": "8y3YIttkeaX2",
    "outputId": "c1b26629-a5b8-47bc-c446-4a85de7e2c0b"
   },
   "outputs": [
    {
     "name": "stdout",
     "output_type": "stream",
     "text": [
      "Model: \"model\"\n",
      "_________________________________________________________________\n",
      "Layer (type)                 Output Shape              Param #   \n",
      "=================================================================\n",
      "input_2 (InputLayer)         [(None, 1)]               0         \n",
      "_________________________________________________________________\n",
      "dense_1 (Dense)              (None, 1)                 2         \n",
      "=================================================================\n",
      "Total params: 2\n",
      "Trainable params: 2\n",
      "Non-trainable params: 0\n",
      "_________________________________________________________________\n"
     ]
    }
   ],
   "source": [
    "# Initialize the model\n",
    "model = LinearRegression(hidden_dim=HIDDEN_DIM)\n",
    "model.sample(input_shape=(INPUT_DIM,))"
   ]
  },
  {
   "cell_type": "markdown",
   "metadata": {
    "colab_type": "text",
    "id": "Yj5snqjN0Y4j"
   },
   "source": [
    "When we implemented linear regression from scratch, we used batch gradient descent to update our weights. But there are actually many different [gradient descent optimization algorithms](https://ruder.io/optimizing-gradient-descent/) to choose from and it depends on the situation. However, the [ADAM optimizer](https://ruder.io/optimizing-gradient-descent/index.html#gradientdescentoptimizationalgorithms/#adam) has become a standard algorithm for most cases. "
   ]
  },
  {
   "cell_type": "code",
   "execution_count": 0,
   "metadata": {
    "colab": {},
    "colab_type": "code",
    "id": "0eZiOOYeerCV"
   },
   "outputs": [],
   "source": [
    "# Compile\n",
    "model.compile(optimizer=Adam(lr=LEARNING_RATE),\n",
    "              loss=MeanSquaredError(),\n",
    "              metrics=[MeanAbsolutePercentageError()])"
   ]
  },
  {
   "cell_type": "markdown",
   "metadata": {
    "colab_type": "text",
    "id": "ysKlKW_lki9R"
   },
   "source": [
    "<img height=\"45\" src=\"http://bestanimations.com/HomeOffice/Lights/Bulbs/animated-light-bulb-gif-29.gif\" align=\"left\" vspace=\"5px\" hspace=\"10px\">\n",
    "\n",
    "Here are the full list of options for [optimizer](https://www.tensorflow.org/versions/r2.0/api_docs/python/tf/keras/optimizers), [loss](https://www.tensorflow.org/versions/r2.0/api_docs/python/tf/keras/losses) and [metrics](https://www.tensorflow.org/versions/r2.0/api_docs/python/tf/keras/metrics)."
   ]
  },
  {
   "cell_type": "markdown",
   "metadata": {
    "colab_type": "text",
    "id": "7VtxXsNq3hrz"
   },
   "source": [
    "# Training"
   ]
  },
  {
   "cell_type": "markdown",
   "metadata": {
    "colab_type": "text",
    "id": "PWn-wFPEFu38"
   },
   "source": [
    "When we implemented linear regression from scratch, we used batch gradient descent to update our weights. This means that we calculated the gradients using the entire training dataset. We also could've updated our weights using stochastic gradient descent (SGD) where we pass in one training example at a time. The current standard is mini-batch gradient descent, which strikes a balance between batch and stochastic GD, where we update the weights using a mini-batch of n (`BATCH_SIZE`) samples."
   ]
  },
  {
   "cell_type": "code",
   "execution_count": 0,
   "metadata": {
    "colab": {
     "base_uri": "https://localhost:8080/",
     "height": 1000
    },
    "colab_type": "code",
    "id": "u_ZOiIGleq_l",
    "outputId": "81046735-603d-48ce-abc3-0c4b42b88ade"
   },
   "outputs": [
    {
     "name": "stdout",
     "output_type": "stream",
     "text": [
      "Train on 35 samples, validate on 7 samples\n",
      "Epoch 1/100\n",
      "35/35 [==============================] - 1s 29ms/sample - loss: 2.2303 - mean_absolute_percentage_error: 189.2383 - val_loss: 1.8631 - val_mean_absolute_percentage_error: 110.1029\n",
      "Epoch 2/100\n",
      "35/35 [==============================] - 0s 604us/sample - loss: 1.1683 - mean_absolute_percentage_error: 129.5676 - val_loss: 0.8827 - val_mean_absolute_percentage_error: 85.6471\n",
      "Epoch 3/100\n",
      "35/35 [==============================] - 0s 650us/sample - loss: 0.5139 - mean_absolute_percentage_error: 72.2302 - val_loss: 0.3088 - val_mean_absolute_percentage_error: 63.4733\n",
      "Epoch 4/100\n",
      "35/35 [==============================] - 0s 675us/sample - loss: 0.1775 - mean_absolute_percentage_error: 58.3600 - val_loss: 0.0744 - val_mean_absolute_percentage_error: 43.0542\n",
      "Epoch 5/100\n",
      "35/35 [==============================] - 0s 635us/sample - loss: 0.0590 - mean_absolute_percentage_error: 55.3533 - val_loss: 0.0241 - val_mean_absolute_percentage_error: 29.1076\n",
      "Epoch 6/100\n",
      "35/35 [==============================] - 0s 724us/sample - loss: 0.0501 - mean_absolute_percentage_error: 52.8501 - val_loss: 0.0298 - val_mean_absolute_percentage_error: 21.7504\n",
      "Epoch 7/100\n",
      "35/35 [==============================] - 0s 718us/sample - loss: 0.0740 - mean_absolute_percentage_error: 54.2517 - val_loss: 0.0345 - val_mean_absolute_percentage_error: 17.8960\n",
      "Epoch 8/100\n",
      "35/35 [==============================] - 0s 685us/sample - loss: 0.0897 - mean_absolute_percentage_error: 51.1155 - val_loss: 0.0292 - val_mean_absolute_percentage_error: 17.8972\n",
      "Epoch 9/100\n",
      "35/35 [==============================] - 0s 693us/sample - loss: 0.0826 - mean_absolute_percentage_error: 46.4416 - val_loss: 0.0204 - val_mean_absolute_percentage_error: 16.6245\n",
      "Epoch 10/100\n",
      "35/35 [==============================] - 0s 745us/sample - loss: 0.0588 - mean_absolute_percentage_error: 41.9437 - val_loss: 0.0161 - val_mean_absolute_percentage_error: 16.1506\n",
      "Epoch 11/100\n",
      "35/35 [==============================] - 0s 735us/sample - loss: 0.0367 - mean_absolute_percentage_error: 38.9170 - val_loss: 0.0205 - val_mean_absolute_percentage_error: 22.4666\n",
      "Epoch 12/100\n",
      "35/35 [==============================] - 0s 719us/sample - loss: 0.0285 - mean_absolute_percentage_error: 38.1202 - val_loss: 0.0309 - val_mean_absolute_percentage_error: 28.5176\n",
      "Epoch 13/100\n",
      "35/35 [==============================] - 0s 727us/sample - loss: 0.0314 - mean_absolute_percentage_error: 38.2243 - val_loss: 0.0406 - val_mean_absolute_percentage_error: 31.7614\n",
      "Epoch 14/100\n",
      "35/35 [==============================] - 0s 702us/sample - loss: 0.0355 - mean_absolute_percentage_error: 37.9354 - val_loss: 0.0450 - val_mean_absolute_percentage_error: 32.1937\n",
      "Epoch 15/100\n",
      "35/35 [==============================] - 0s 699us/sample - loss: 0.0358 - mean_absolute_percentage_error: 36.5390 - val_loss: 0.0433 - val_mean_absolute_percentage_error: 30.6931\n",
      "Epoch 16/100\n",
      "35/35 [==============================] - 0s 631us/sample - loss: 0.0333 - mean_absolute_percentage_error: 35.0792 - val_loss: 0.0375 - val_mean_absolute_percentage_error: 28.4353\n",
      "Epoch 17/100\n",
      "35/35 [==============================] - 0s 626us/sample - loss: 0.0305 - mean_absolute_percentage_error: 34.9512 - val_loss: 0.0306 - val_mean_absolute_percentage_error: 26.3657\n",
      "Epoch 18/100\n",
      "35/35 [==============================] - 0s 634us/sample - loss: 0.0289 - mean_absolute_percentage_error: 35.9414 - val_loss: 0.0253 - val_mean_absolute_percentage_error: 24.9581\n",
      "Epoch 19/100\n",
      "35/35 [==============================] - 0s 659us/sample - loss: 0.0284 - mean_absolute_percentage_error: 37.1964 - val_loss: 0.0226 - val_mean_absolute_percentage_error: 24.2765\n",
      "Epoch 20/100\n",
      "35/35 [==============================] - 0s 682us/sample - loss: 0.0283 - mean_absolute_percentage_error: 37.8857 - val_loss: 0.0221 - val_mean_absolute_percentage_error: 24.1799\n",
      "Epoch 21/100\n",
      "35/35 [==============================] - 0s 725us/sample - loss: 0.0283 - mean_absolute_percentage_error: 37.7560 - val_loss: 0.0233 - val_mean_absolute_percentage_error: 24.4904\n",
      "Epoch 22/100\n",
      "35/35 [==============================] - 0s 754us/sample - loss: 0.0282 - mean_absolute_percentage_error: 37.1553 - val_loss: 0.0253 - val_mean_absolute_percentage_error: 25.0431\n",
      "Epoch 23/100\n",
      "35/35 [==============================] - 0s 646us/sample - loss: 0.0284 - mean_absolute_percentage_error: 36.6211 - val_loss: 0.0271 - val_mean_absolute_percentage_error: 25.6636\n",
      "Epoch 24/100\n",
      "35/35 [==============================] - 0s 604us/sample - loss: 0.0286 - mean_absolute_percentage_error: 36.4372 - val_loss: 0.0282 - val_mean_absolute_percentage_error: 26.1652\n",
      "Epoch 25/100\n",
      "35/35 [==============================] - 0s 721us/sample - loss: 0.0288 - mean_absolute_percentage_error: 36.5204 - val_loss: 0.0284 - val_mean_absolute_percentage_error: 26.4022\n",
      "Epoch 26/100\n",
      "35/35 [==============================] - 0s 824us/sample - loss: 0.0288 - mean_absolute_percentage_error: 36.6643 - val_loss: 0.0280 - val_mean_absolute_percentage_error: 26.3404\n",
      "Epoch 27/100\n",
      "35/35 [==============================] - 0s 869us/sample - loss: 0.0287 - mean_absolute_percentage_error: 36.7185 - val_loss: 0.0274 - val_mean_absolute_percentage_error: 26.0752\n",
      "Epoch 28/100\n",
      "35/35 [==============================] - 0s 1ms/sample - loss: 0.0286 - mean_absolute_percentage_error: 36.6859 - val_loss: 0.0269 - val_mean_absolute_percentage_error: 25.7720\n",
      "Epoch 29/100\n",
      "35/35 [==============================] - 0s 715us/sample - loss: 0.0285 - mean_absolute_percentage_error: 36.6579 - val_loss: 0.0265 - val_mean_absolute_percentage_error: 25.5705\n",
      "Epoch 30/100\n",
      "35/35 [==============================] - 0s 659us/sample - loss: 0.0285 - mean_absolute_percentage_error: 36.6927 - val_loss: 0.0263 - val_mean_absolute_percentage_error: 25.5202\n",
      "Epoch 31/100\n",
      "35/35 [==============================] - 0s 679us/sample - loss: 0.0285 - mean_absolute_percentage_error: 36.7627 - val_loss: 0.0263 - val_mean_absolute_percentage_error: 25.5831\n",
      "Epoch 32/100\n",
      "35/35 [==============================] - 0s 677us/sample - loss: 0.0285 - mean_absolute_percentage_error: 36.8006 - val_loss: 0.0265 - val_mean_absolute_percentage_error: 25.6859\n",
      "Epoch 33/100\n",
      "35/35 [==============================] - 0s 773us/sample - loss: 0.0285 - mean_absolute_percentage_error: 36.7741 - val_loss: 0.0268 - val_mean_absolute_percentage_error: 25.7713\n",
      "Epoch 34/100\n",
      "35/35 [==============================] - 0s 788us/sample - loss: 0.0285 - mean_absolute_percentage_error: 36.7127 - val_loss: 0.0270 - val_mean_absolute_percentage_error: 25.8174\n",
      "Epoch 35/100\n",
      "35/35 [==============================] - 0s 727us/sample - loss: 0.0286 - mean_absolute_percentage_error: 36.6695 - val_loss: 0.0270 - val_mean_absolute_percentage_error: 25.8273\n",
      "Epoch 36/100\n",
      "35/35 [==============================] - 0s 678us/sample - loss: 0.0286 - mean_absolute_percentage_error: 36.6699 - val_loss: 0.0270 - val_mean_absolute_percentage_error: 25.8115\n",
      "Epoch 37/100\n",
      "35/35 [==============================] - 0s 655us/sample - loss: 0.0286 - mean_absolute_percentage_error: 36.6975 - val_loss: 0.0268 - val_mean_absolute_percentage_error: 25.7807\n",
      "Epoch 38/100\n",
      "35/35 [==============================] - 0s 688us/sample - loss: 0.0286 - mean_absolute_percentage_error: 36.7206 - val_loss: 0.0267 - val_mean_absolute_percentage_error: 25.7473\n",
      "Epoch 39/100\n",
      "35/35 [==============================] - 0s 669us/sample - loss: 0.0285 - mean_absolute_percentage_error: 36.7241 - val_loss: 0.0267 - val_mean_absolute_percentage_error: 25.7243\n",
      "Epoch 40/100\n",
      "35/35 [==============================] - 0s 811us/sample - loss: 0.0285 - mean_absolute_percentage_error: 36.7156 - val_loss: 0.0267 - val_mean_absolute_percentage_error: 25.7198\n",
      "Epoch 41/100\n",
      "35/35 [==============================] - 0s 761us/sample - loss: 0.0285 - mean_absolute_percentage_error: 36.7096 - val_loss: 0.0268 - val_mean_absolute_percentage_error: 25.7316\n",
      "Epoch 42/100\n",
      "35/35 [==============================] - 0s 639us/sample - loss: 0.0286 - mean_absolute_percentage_error: 36.7101 - val_loss: 0.0268 - val_mean_absolute_percentage_error: 25.7490\n",
      "Epoch 43/100\n",
      "35/35 [==============================] - 0s 689us/sample - loss: 0.0286 - mean_absolute_percentage_error: 36.7116 - val_loss: 0.0268 - val_mean_absolute_percentage_error: 25.7608\n",
      "Epoch 44/100\n",
      "35/35 [==============================] - 0s 710us/sample - loss: 0.0286 - mean_absolute_percentage_error: 36.7089 - val_loss: 0.0268 - val_mean_absolute_percentage_error: 25.7625\n",
      "Epoch 45/100\n",
      "35/35 [==============================] - 0s 648us/sample - loss: 0.0286 - mean_absolute_percentage_error: 36.7040 - val_loss: 0.0268 - val_mean_absolute_percentage_error: 25.7570\n",
      "Epoch 46/100\n",
      "35/35 [==============================] - 0s 667us/sample - loss: 0.0286 - mean_absolute_percentage_error: 36.7018 - val_loss: 0.0268 - val_mean_absolute_percentage_error: 25.7497\n",
      "Epoch 47/100\n",
      "35/35 [==============================] - 0s 676us/sample - loss: 0.0286 - mean_absolute_percentage_error: 36.7040 - val_loss: 0.0268 - val_mean_absolute_percentage_error: 25.7444\n",
      "Epoch 48/100\n",
      "35/35 [==============================] - 0s 647us/sample - loss: 0.0286 - mean_absolute_percentage_error: 36.7073 - val_loss: 0.0268 - val_mean_absolute_percentage_error: 25.7419\n",
      "Epoch 49/100\n",
      "35/35 [==============================] - 0s 648us/sample - loss: 0.0286 - mean_absolute_percentage_error: 36.7081 - val_loss: 0.0268 - val_mean_absolute_percentage_error: 25.7416\n",
      "Epoch 50/100\n",
      "35/35 [==============================] - 0s 724us/sample - loss: 0.0286 - mean_absolute_percentage_error: 36.7062 - val_loss: 0.0268 - val_mean_absolute_percentage_error: 25.7428\n",
      "Epoch 51/100\n",
      "35/35 [==============================] - 0s 748us/sample - loss: 0.0286 - mean_absolute_percentage_error: 36.7037 - val_loss: 0.0268 - val_mean_absolute_percentage_error: 25.7443\n",
      "Epoch 52/100\n",
      "35/35 [==============================] - 0s 832us/sample - loss: 0.0286 - mean_absolute_percentage_error: 36.7026 - val_loss: 0.0268 - val_mean_absolute_percentage_error: 25.7454\n",
      "Epoch 53/100\n",
      "35/35 [==============================] - 0s 761us/sample - loss: 0.0286 - mean_absolute_percentage_error: 36.7026 - val_loss: 0.0268 - val_mean_absolute_percentage_error: 25.7450\n",
      "Epoch 54/100\n",
      "35/35 [==============================] - 0s 683us/sample - loss: 0.0286 - mean_absolute_percentage_error: 36.7025 - val_loss: 0.0268 - val_mean_absolute_percentage_error: 25.7435\n",
      "Epoch 55/100\n",
      "35/35 [==============================] - 0s 678us/sample - loss: 0.0286 - mean_absolute_percentage_error: 36.7019 - val_loss: 0.0268 - val_mean_absolute_percentage_error: 25.7415\n",
      "Epoch 56/100\n",
      "35/35 [==============================] - 0s 708us/sample - loss: 0.0286 - mean_absolute_percentage_error: 36.7013 - val_loss: 0.0268 - val_mean_absolute_percentage_error: 25.7400\n",
      "Epoch 57/100\n",
      "35/35 [==============================] - 0s 679us/sample - loss: 0.0286 - mean_absolute_percentage_error: 36.7010 - val_loss: 0.0268 - val_mean_absolute_percentage_error: 25.7394\n",
      "Epoch 58/100\n",
      "35/35 [==============================] - 0s 641us/sample - loss: 0.0286 - mean_absolute_percentage_error: 36.7008 - val_loss: 0.0268 - val_mean_absolute_percentage_error: 25.7392\n",
      "Epoch 59/100\n",
      "35/35 [==============================] - 0s 701us/sample - loss: 0.0286 - mean_absolute_percentage_error: 36.7003 - val_loss: 0.0268 - val_mean_absolute_percentage_error: 25.7390\n",
      "Epoch 60/100\n",
      "35/35 [==============================] - 0s 713us/sample - loss: 0.0286 - mean_absolute_percentage_error: 36.6995 - val_loss: 0.0268 - val_mean_absolute_percentage_error: 25.7387\n",
      "Epoch 61/100\n",
      "35/35 [==============================] - 0s 747us/sample - loss: 0.0286 - mean_absolute_percentage_error: 36.6988 - val_loss: 0.0268 - val_mean_absolute_percentage_error: 25.7381\n",
      "Epoch 62/100\n",
      "35/35 [==============================] - 0s 685us/sample - loss: 0.0286 - mean_absolute_percentage_error: 36.6983 - val_loss: 0.0268 - val_mean_absolute_percentage_error: 25.7374\n",
      "Epoch 63/100\n",
      "35/35 [==============================] - 0s 639us/sample - loss: 0.0286 - mean_absolute_percentage_error: 36.6980 - val_loss: 0.0268 - val_mean_absolute_percentage_error: 25.7366\n",
      "Epoch 64/100\n",
      "35/35 [==============================] - 0s 701us/sample - loss: 0.0286 - mean_absolute_percentage_error: 36.6976 - val_loss: 0.0268 - val_mean_absolute_percentage_error: 25.7358\n",
      "Epoch 65/100\n",
      "35/35 [==============================] - 0s 722us/sample - loss: 0.0286 - mean_absolute_percentage_error: 36.6971 - val_loss: 0.0268 - val_mean_absolute_percentage_error: 25.7351\n",
      "Epoch 66/100\n",
      "35/35 [==============================] - 0s 689us/sample - loss: 0.0286 - mean_absolute_percentage_error: 36.6965 - val_loss: 0.0268 - val_mean_absolute_percentage_error: 25.7346\n",
      "Epoch 67/100\n",
      "35/35 [==============================] - 0s 643us/sample - loss: 0.0286 - mean_absolute_percentage_error: 36.6961 - val_loss: 0.0268 - val_mean_absolute_percentage_error: 25.7341\n",
      "Epoch 68/100\n",
      "35/35 [==============================] - 0s 673us/sample - loss: 0.0286 - mean_absolute_percentage_error: 36.6956 - val_loss: 0.0268 - val_mean_absolute_percentage_error: 25.7336\n",
      "Epoch 69/100\n",
      "35/35 [==============================] - 0s 644us/sample - loss: 0.0286 - mean_absolute_percentage_error: 36.6951 - val_loss: 0.0268 - val_mean_absolute_percentage_error: 25.7330\n",
      "Epoch 70/100\n",
      "35/35 [==============================] - 0s 705us/sample - loss: 0.0286 - mean_absolute_percentage_error: 36.6946 - val_loss: 0.0268 - val_mean_absolute_percentage_error: 25.7323\n",
      "Epoch 71/100\n",
      "35/35 [==============================] - 0s 673us/sample - loss: 0.0286 - mean_absolute_percentage_error: 36.6941 - val_loss: 0.0268 - val_mean_absolute_percentage_error: 25.7317\n",
      "Epoch 72/100\n",
      "35/35 [==============================] - 0s 680us/sample - loss: 0.0286 - mean_absolute_percentage_error: 36.6937 - val_loss: 0.0268 - val_mean_absolute_percentage_error: 25.7311\n",
      "Epoch 73/100\n",
      "35/35 [==============================] - 0s 626us/sample - loss: 0.0286 - mean_absolute_percentage_error: 36.6932 - val_loss: 0.0268 - val_mean_absolute_percentage_error: 25.7305\n",
      "Epoch 74/100\n",
      "35/35 [==============================] - 0s 801us/sample - loss: 0.0286 - mean_absolute_percentage_error: 36.6927 - val_loss: 0.0268 - val_mean_absolute_percentage_error: 25.7300\n",
      "Epoch 75/100\n",
      "35/35 [==============================] - 0s 627us/sample - loss: 0.0286 - mean_absolute_percentage_error: 36.6922 - val_loss: 0.0268 - val_mean_absolute_percentage_error: 25.7294\n",
      "Epoch 76/100\n",
      "35/35 [==============================] - 0s 658us/sample - loss: 0.0286 - mean_absolute_percentage_error: 36.6918 - val_loss: 0.0268 - val_mean_absolute_percentage_error: 25.7288\n",
      "Epoch 77/100\n",
      "35/35 [==============================] - 0s 762us/sample - loss: 0.0286 - mean_absolute_percentage_error: 36.6913 - val_loss: 0.0268 - val_mean_absolute_percentage_error: 25.7283\n",
      "Epoch 78/100\n",
      "35/35 [==============================] - 0s 757us/sample - loss: 0.0286 - mean_absolute_percentage_error: 36.6908 - val_loss: 0.0268 - val_mean_absolute_percentage_error: 25.7277\n",
      "Epoch 79/100\n",
      "35/35 [==============================] - 0s 739us/sample - loss: 0.0286 - mean_absolute_percentage_error: 36.6904 - val_loss: 0.0268 - val_mean_absolute_percentage_error: 25.7271\n",
      "Epoch 80/100\n",
      "35/35 [==============================] - 0s 764us/sample - loss: 0.0286 - mean_absolute_percentage_error: 36.6899 - val_loss: 0.0268 - val_mean_absolute_percentage_error: 25.7266\n",
      "Epoch 81/100\n",
      "35/35 [==============================] - 0s 716us/sample - loss: 0.0286 - mean_absolute_percentage_error: 36.6894 - val_loss: 0.0268 - val_mean_absolute_percentage_error: 25.7260\n",
      "Epoch 82/100\n",
      "35/35 [==============================] - 0s 757us/sample - loss: 0.0286 - mean_absolute_percentage_error: 36.6890 - val_loss: 0.0268 - val_mean_absolute_percentage_error: 25.7255\n",
      "Epoch 83/100\n",
      "35/35 [==============================] - 0s 836us/sample - loss: 0.0286 - mean_absolute_percentage_error: 36.6885 - val_loss: 0.0268 - val_mean_absolute_percentage_error: 25.7249\n",
      "Epoch 84/100\n",
      "35/35 [==============================] - 0s 754us/sample - loss: 0.0286 - mean_absolute_percentage_error: 36.6881 - val_loss: 0.0268 - val_mean_absolute_percentage_error: 25.7244\n",
      "Epoch 85/100\n",
      "35/35 [==============================] - 0s 765us/sample - loss: 0.0286 - mean_absolute_percentage_error: 36.6876 - val_loss: 0.0268 - val_mean_absolute_percentage_error: 25.7238\n",
      "Epoch 86/100\n",
      "35/35 [==============================] - 0s 741us/sample - loss: 0.0286 - mean_absolute_percentage_error: 36.6872 - val_loss: 0.0268 - val_mean_absolute_percentage_error: 25.7233\n",
      "Epoch 87/100\n",
      "35/35 [==============================] - 0s 686us/sample - loss: 0.0286 - mean_absolute_percentage_error: 36.6867 - val_loss: 0.0268 - val_mean_absolute_percentage_error: 25.7227\n",
      "Epoch 88/100\n",
      "35/35 [==============================] - 0s 828us/sample - loss: 0.0286 - mean_absolute_percentage_error: 36.6862 - val_loss: 0.0268 - val_mean_absolute_percentage_error: 25.7222\n",
      "Epoch 89/100\n",
      "35/35 [==============================] - 0s 730us/sample - loss: 0.0286 - mean_absolute_percentage_error: 36.6858 - val_loss: 0.0268 - val_mean_absolute_percentage_error: 25.7217\n",
      "Epoch 90/100\n",
      "35/35 [==============================] - 0s 711us/sample - loss: 0.0286 - mean_absolute_percentage_error: 36.6853 - val_loss: 0.0268 - val_mean_absolute_percentage_error: 25.7211\n",
      "Epoch 91/100\n",
      "35/35 [==============================] - 0s 755us/sample - loss: 0.0286 - mean_absolute_percentage_error: 36.6849 - val_loss: 0.0268 - val_mean_absolute_percentage_error: 25.7206\n",
      "Epoch 92/100\n",
      "35/35 [==============================] - 0s 799us/sample - loss: 0.0286 - mean_absolute_percentage_error: 36.6844 - val_loss: 0.0268 - val_mean_absolute_percentage_error: 25.7201\n",
      "Epoch 93/100\n",
      "35/35 [==============================] - 0s 914us/sample - loss: 0.0286 - mean_absolute_percentage_error: 36.6840 - val_loss: 0.0268 - val_mean_absolute_percentage_error: 25.7196\n",
      "Epoch 94/100\n",
      "35/35 [==============================] - 0s 733us/sample - loss: 0.0286 - mean_absolute_percentage_error: 36.6836 - val_loss: 0.0268 - val_mean_absolute_percentage_error: 25.7190\n",
      "Epoch 95/100\n",
      "35/35 [==============================] - 0s 768us/sample - loss: 0.0286 - mean_absolute_percentage_error: 36.6831 - val_loss: 0.0268 - val_mean_absolute_percentage_error: 25.7185\n",
      "Epoch 96/100\n",
      "35/35 [==============================] - 0s 755us/sample - loss: 0.0286 - mean_absolute_percentage_error: 36.6827 - val_loss: 0.0268 - val_mean_absolute_percentage_error: 25.7180\n",
      "Epoch 97/100\n",
      "35/35 [==============================] - 0s 750us/sample - loss: 0.0286 - mean_absolute_percentage_error: 36.6822 - val_loss: 0.0268 - val_mean_absolute_percentage_error: 25.7175\n",
      "Epoch 98/100\n",
      "35/35 [==============================] - 0s 1ms/sample - loss: 0.0286 - mean_absolute_percentage_error: 36.6818 - val_loss: 0.0268 - val_mean_absolute_percentage_error: 25.7170\n",
      "Epoch 99/100\n",
      "35/35 [==============================] - 0s 719us/sample - loss: 0.0286 - mean_absolute_percentage_error: 36.6813 - val_loss: 0.0268 - val_mean_absolute_percentage_error: 25.7165\n",
      "Epoch 100/100\n",
      "35/35 [==============================] - 0s 779us/sample - loss: 0.0286 - mean_absolute_percentage_error: 36.6809 - val_loss: 0.0268 - val_mean_absolute_percentage_error: 25.7160\n"
     ]
    },
    {
     "data": {
      "text/plain": [
       "<tensorflow.python.keras.callbacks.History at 0x7f9faf1326d8>"
      ]
     },
     "execution_count": 33,
     "metadata": {
      "tags": []
     },
     "output_type": "execute_result"
    }
   ],
   "source": [
    "# Training\n",
    "model.fit(x=standardized_X_train, \n",
    "          y=standardized_y_train,\n",
    "          validation_data=(standardized_X_val, standardized_y_val),\n",
    "          epochs=NUM_EPOCHS,\n",
    "          batch_size=BATCH_SIZE,\n",
    "          shuffle=False,\n",
    "          verbose=1)"
   ]
  },
  {
   "cell_type": "markdown",
   "metadata": {
    "colab_type": "text",
    "id": "eRl3Gvu8ewD4"
   },
   "source": [
    "# Evaluation"
   ]
  },
  {
   "cell_type": "markdown",
   "metadata": {
    "colab_type": "text",
    "id": "jhdu9lBie_t_"
   },
   "source": [
    "There are several evaluation techniques to see how well our model performed. A common one for linear regression is mean squarred error."
   ]
  },
  {
   "cell_type": "code",
   "execution_count": 0,
   "metadata": {
    "colab": {},
    "colab_type": "code",
    "id": "BZl9Jz8qetzI"
   },
   "outputs": [],
   "source": [
    "# Predictions\n",
    "pred_train = model.predict(standardized_X_train)\n",
    "pred_test = model.predict(standardized_X_test)"
   ]
  },
  {
   "cell_type": "code",
   "execution_count": 0,
   "metadata": {
    "colab": {
     "base_uri": "https://localhost:8080/",
     "height": 34
    },
    "colab_type": "code",
    "id": "UT30FvMUetwe",
    "outputId": "24168a89-3644-4583-9a39-72b791f776be"
   },
   "outputs": [
    {
     "name": "stdout",
     "output_type": "stream",
     "text": [
      "train_MSE: 0.03, test_MSE: 2.21\n"
     ]
    }
   ],
   "source": [
    "# Train and test MSE\n",
    "train_mse = np.mean((standardized_y_train - pred_train) ** 2)\n",
    "test_mse = np.mean((standardized_y_test - pred_test) ** 2)\n",
    "print (f\"train_MSE: {train_mse:.2f}, test_MSE: {test_mse:.2f}\")"
   ]
  },
  {
   "cell_type": "markdown",
   "metadata": {
    "colab_type": "text",
    "id": "TegkJM2-YKEq"
   },
   "source": [
    "Since we only have one feature, it's easy to visually inspect the model."
   ]
  },
  {
   "cell_type": "code",
   "execution_count": 0,
   "metadata": {
    "colab": {
     "base_uri": "https://localhost:8080/",
     "height": 336
    },
    "colab_type": "code",
    "id": "I8nuCOjGeySz",
    "outputId": "f3cca3ea-7428-4ce3-e3d6-8f5e0487f54f"
   },
   "outputs": [
    {
     "data": {
      "image/png": "[encoded data removed]",
      "text/plain": [
       "<Figure size 1080x360 with 2 Axes>"
      ]
     },
     "metadata": {
      "tags": []
     },
     "output_type": "display_data"
    }
   ],
   "source": [
    "# Figure size\n",
    "plt.figure(figsize=(15,5))\n",
    "\n",
    "# Plot train data\n",
    "plt.subplot(1, 2, 1)\n",
    "plt.title(\"Train\")\n",
    "plt.scatter(standardized_X_train, standardized_y_train, label='y_train')\n",
    "plt.plot(standardized_X_train, pred_train, color='red', linewidth=1, linestyle='-', label='model')\n",
    "plt.legend(loc='lower right')\n",
    "\n",
    "# Plot test data\n",
    "plt.subplot(1, 2, 2)\n",
    "plt.title(\"Test\")\n",
    "plt.scatter(standardized_X_test, standardized_y_test, label='y_test')\n",
    "plt.plot(standardized_X_test, pred_test, color='red', linewidth=1, linestyle='-', label='model')\n",
    "plt.legend(loc='lower right')\n",
    "\n",
    "# Show plots\n",
    "plt.show()"
   ]
  },
  {
   "cell_type": "markdown",
   "metadata": {
    "colab_type": "text",
    "id": "T621buxbe0VQ"
   },
   "source": [
    "# Inference"
   ]
  },
  {
   "cell_type": "markdown",
   "metadata": {
    "colab_type": "text",
    "id": "o4W84oQzfNn_"
   },
   "source": [
    "After training a model, we can use it to predict on new data."
   ]
  },
  {
   "cell_type": "code",
   "execution_count": 0,
   "metadata": {
    "colab": {},
    "colab_type": "code",
    "id": "O_ZKW-p2e0fN"
   },
   "outputs": [],
   "source": [
    "# Feed in your own inputs\n",
    "sample_indices = [10, 15, 25]\n",
    "X_infer = np.array(sample_indices, dtype=np.float32)\n",
    "standardized_X_infer = X_scaler.transform(X_infer.reshape(-1, 1))"
   ]
  },
  {
   "cell_type": "markdown",
   "metadata": {
    "colab_type": "text",
    "id": "6ZjQ54zKazbE"
   },
   "source": [
    "Recall that we need to unstandardize our predictions.\n",
    "\n",
    "$ \\hat{y}_{scaled} = \\frac{\\hat{y} - \\mu_{\\hat{y}}}{\\sigma_{\\hat{y}}} $\n",
    "\n",
    "$ \\hat{y} = \\hat{y}_{scaled} * \\sigma_{\\hat{y}} + \\mu_{\\hat{y}} $"
   ]
  },
  {
   "cell_type": "code",
   "execution_count": 0,
   "metadata": {
    "colab": {
     "base_uri": "https://localhost:8080/",
     "height": 68
    },
    "colab_type": "code",
    "id": "PMAdz712aE34",
    "outputId": "aed82cf8-86fe-4fc0-8971-884b8ca27b52"
   },
   "outputs": [
    {
     "name": "stdout",
     "output_type": "stream",
     "text": [
      "35.73 (actual) → 43.49 (predicted)\n",
      "59.34 (actual) → 60.03 (predicted)\n",
      "97.04 (actual) → 93.09 (predicted)\n"
     ]
    }
   ],
   "source": [
    "# Unstandardize predictions\n",
    "pred_infer = model.predict(standardized_X_infer) * np.sqrt(y_scaler.var_) + y_scaler.mean_\n",
    "for i, index in enumerate(sample_indices):\n",
    "    print (f\"{df.iloc[index]['y']:.2f} (actual) → {pred_infer[i][0]:.2f} (predicted)\")"
   ]
  },
  {
   "cell_type": "markdown",
   "metadata": {
    "colab_type": "text",
    "id": "H5CB4zRFe37l"
   },
   "source": [
    "# Interpretability"
   ]
  },
  {
   "cell_type": "markdown",
   "metadata": {
    "colab_type": "text",
    "id": "OhXo8CbPBZ-G"
   },
   "source": [
    "Linear regression offers the great advantage of being highly interpretable. Each feature has a coefficient which signifies it's importance/impact on the output variable y. We can interpret our coefficient as follows: by increasing X by 1 unit, we increase y by $W$ (~3.65) units. \n",
    "\n",
    "**Note**: Since we standardized our inputs and outputs for gradient descent, we need to apply an operation to our coefficients and intercept to interpret them. See proof in the `From scratch` section above."
   ]
  },
  {
   "cell_type": "code",
   "execution_count": 0,
   "metadata": {
    "colab": {
     "base_uri": "https://localhost:8080/",
     "height": 51
    },
    "colab_type": "code",
    "id": "lJOOjjLze6_U",
    "outputId": "2a735554-e3cd-42bc-db32-c83b0cc8ea8f"
   },
   "outputs": [
    {
     "name": "stdout",
     "output_type": "stream",
     "text": [
      "[actual] y = 3.5X + noise\n",
      "[model] y_hat = 3.3X + 10.4\n"
     ]
    }
   ],
   "source": [
    "# Unstandardize coefficients (proof is in the `From Scratch` section above)\n",
    "W = model.layers[0].get_weights()[0][0][0]\n",
    "b = model.layers[0].get_weights()[1][0]\n",
    "W_unscaled = W * (y_scaler.scale_/X_scaler.scale_)\n",
    "b_unscaled = b * y_scaler.scale_ + y_scaler.mean_ - np.sum(W_unscaled*X_scaler.mean_)\n",
    "print (\"[actual] y = 3.5X + noise\")\n",
    "print (f\"[model] y_hat = {W_unscaled[0]:.1f}X + {b_unscaled[0]:.1f}\") "
   ]
  },
  {
   "cell_type": "markdown",
   "metadata": {
    "colab_type": "text",
    "id": "rToCXKqeJcvj"
   },
   "source": [
    "# Regularization"
   ]
  },
  {
   "cell_type": "markdown",
   "metadata": {
    "colab_type": "text",
    "id": "L4GFv8xRJmOZ"
   },
   "source": [
    "Regularization helps decrease overfitting. Below is L2 regularization (ridge regression). There are many forms of regularization but they all work to reduce overfitting in our models. With L2 regularization, we are penalizing the weights with large magnitudes by decaying them. Having certain weights with high magnitudes will lead to preferential bias with the inputs and we want the model to work with all the inputs and not just a select few. There are also other types of regularization like L1 (lasso regression) which is useful for creating sparse models where some feature cofficients are zeroed out, or elastic which combines L1 and L2 penalties. \n",
    "\n",
    "**Note**: Regularization is not just for linear regression. You can use it to regularize any model's weights including the ones we will look at in future lessons."
   ]
  },
  {
   "cell_type": "markdown",
   "metadata": {
    "colab_type": "text",
    "id": "D_OcpRxF-Oj7"
   },
   "source": [
    "$ J(\\theta) = = \\frac{1}{2}\\sum_{i}(X_iW - y_i)^2 + \\frac{\\lambda}{2}W^TW$\n",
    "\n",
    "$ \\frac{\\partial{J}}{\\partial{W}}  = X (\\hat{y} - y) + \\lambda W $\n",
    "\n",
    "$W = W- \\alpha\\frac{\\partial{J}}{\\partial{W}}$\n",
    "* $\\lambda$ is the regularzation coefficient"
   ]
  },
  {
   "cell_type": "code",
   "execution_count": 0,
   "metadata": {
    "colab": {},
    "colab_type": "code",
    "id": "HHaazL9f8QZX"
   },
   "outputs": [],
   "source": [
    "from tensorflow.keras.regularizers import l2"
   ]
  },
  {
   "cell_type": "code",
   "execution_count": 0,
   "metadata": {
    "colab": {},
    "colab_type": "code",
    "id": "VTIUZLbGZP4e"
   },
   "outputs": [],
   "source": [
    "L2_LAMBDA = 1e-2"
   ]
  },
  {
   "cell_type": "code",
   "execution_count": 0,
   "metadata": {
    "colab": {},
    "colab_type": "code",
    "id": "ORwkUqcuZhbX"
   },
   "outputs": [],
   "source": [
    "# Linear model with L2 regularization\n",
    "class LinearRegressionL2Regularization(Model):\n",
    "    def __init__(self, hidden_dim):\n",
    "        super(LinearRegressionL2Regularization, self).__init__()\n",
    "        self.fc1 = Dense(units=hidden_dim, activation='linear',\n",
    "                        kernel_regularizer=l2(l=L2_LAMBDA))\n",
    "        \n",
    "    def call(self, x_in, training=False):\n",
    "        \"\"\"Forward pass.\"\"\"\n",
    "        y_pred = self.fc1(x_in)\n",
    "        return y_pred\n",
    "    \n",
    "    def sample(self, input_shape):\n",
    "        x_in = Input(shape=input_shape)\n",
    "        return Model(inputs=x_in, outputs=self.call(x_in)).summary()"
   ]
  },
  {
   "cell_type": "code",
   "execution_count": 0,
   "metadata": {
    "colab": {
     "base_uri": "https://localhost:8080/",
     "height": 221
    },
    "colab_type": "code",
    "id": "IWCvYxBxZhd5",
    "outputId": "3670f885-252f-49fd-afc1-8c64a9328003"
   },
   "outputs": [
    {
     "name": "stdout",
     "output_type": "stream",
     "text": [
      "Model: \"model_1\"\n",
      "_________________________________________________________________\n",
      "Layer (type)                 Output Shape              Param #   \n",
      "=================================================================\n",
      "input_3 (InputLayer)         [(None, 1)]               0         \n",
      "_________________________________________________________________\n",
      "dense_2 (Dense)              (None, 1)                 2         \n",
      "=================================================================\n",
      "Total params: 2\n",
      "Trainable params: 2\n",
      "Non-trainable params: 0\n",
      "_________________________________________________________________\n"
     ]
    }
   ],
   "source": [
    "# Initialize the model\n",
    "model = LinearRegressionL2Regularization(hidden_dim=HIDDEN_DIM)\n",
    "model.sample(input_shape=(INPUT_DIM,))"
   ]
  },
  {
   "cell_type": "code",
   "execution_count": 0,
   "metadata": {
    "colab": {},
    "colab_type": "code",
    "id": "DJ-XpSYAoNBX"
   },
   "outputs": [],
   "source": [
    "# Compile\n",
    "model.compile(optimizer=Adam(lr=LEARNING_RATE),\n",
    "              loss=MeanSquaredError(),\n",
    "              metrics=[MeanAbsolutePercentageError()])"
   ]
  },
  {
   "cell_type": "code",
   "execution_count": 0,
   "metadata": {
    "colab": {
     "base_uri": "https://localhost:8080/",
     "height": 1000
    },
    "colab_type": "code",
    "id": "Xlt9IuaCoM-X",
    "outputId": "f771fbe4-a860-42cc-8550-a6f7d1e42a2f"
   },
   "outputs": [
    {
     "name": "stdout",
     "output_type": "stream",
     "text": [
      "Train on 35 samples, validate on 7 samples\n",
      "Epoch 1/100\n",
      "35/35 [==============================] - 0s 12ms/sample - loss: 0.3207 - mean_absolute_percentage_error: 63.4316 - val_loss: 0.1373 - val_mean_absolute_percentage_error: 47.1876\n",
      "Epoch 2/100\n",
      "35/35 [==============================] - 0s 681us/sample - loss: 0.0765 - mean_absolute_percentage_error: 56.2515 - val_loss: 0.0292 - val_mean_absolute_percentage_error: 25.8445\n",
      "Epoch 3/100\n",
      "35/35 [==============================] - 0s 763us/sample - loss: 0.0624 - mean_absolute_percentage_error: 46.6229 - val_loss: 0.0400 - val_mean_absolute_percentage_error: 17.3323\n",
      "Epoch 4/100\n",
      "35/35 [==============================] - 0s 764us/sample - loss: 0.0910 - mean_absolute_percentage_error: 46.5634 - val_loss: 0.0335 - val_mean_absolute_percentage_error: 16.3579\n",
      "Epoch 5/100\n",
      "35/35 [==============================] - 0s 768us/sample - loss: 0.0680 - mean_absolute_percentage_error: 43.0348 - val_loss: 0.0262 - val_mean_absolute_percentage_error: 20.1073\n",
      "Epoch 6/100\n",
      "35/35 [==============================] - 0s 745us/sample - loss: 0.0402 - mean_absolute_percentage_error: 41.6203 - val_loss: 0.0416 - val_mean_absolute_percentage_error: 29.3647\n",
      "Epoch 7/100\n",
      "35/35 [==============================] - 0s 732us/sample - loss: 0.0441 - mean_absolute_percentage_error: 36.3268 - val_loss: 0.0667 - val_mean_absolute_percentage_error: 33.7147\n",
      "Epoch 8/100\n",
      "35/35 [==============================] - 0s 786us/sample - loss: 0.0507 - mean_absolute_percentage_error: 34.8555 - val_loss: 0.0582 - val_mean_absolute_percentage_error: 31.9228\n",
      "Epoch 9/100\n",
      "35/35 [==============================] - 0s 859us/sample - loss: 0.0435 - mean_absolute_percentage_error: 36.0092 - val_loss: 0.0379 - val_mean_absolute_percentage_error: 28.8918\n",
      "Epoch 10/100\n",
      "35/35 [==============================] - 0s 747us/sample - loss: 0.0383 - mean_absolute_percentage_error: 39.8574 - val_loss: 0.0293 - val_mean_absolute_percentage_error: 23.9395\n",
      "Epoch 11/100\n",
      "35/35 [==============================] - 0s 764us/sample - loss: 0.0436 - mean_absolute_percentage_error: 44.1764 - val_loss: 0.0290 - val_mean_absolute_percentage_error: 20.0000\n",
      "Epoch 12/100\n",
      "35/35 [==============================] - 0s 823us/sample - loss: 0.0420 - mean_absolute_percentage_error: 36.9044 - val_loss: 0.0303 - val_mean_absolute_percentage_error: 23.3255\n",
      "Epoch 13/100\n",
      "35/35 [==============================] - 0s 831us/sample - loss: 0.0380 - mean_absolute_percentage_error: 39.9483 - val_loss: 0.0337 - val_mean_absolute_percentage_error: 26.4391\n",
      "Epoch 14/100\n",
      "35/35 [==============================] - 0s 918us/sample - loss: 0.0383 - mean_absolute_percentage_error: 38.9423 - val_loss: 0.0384 - val_mean_absolute_percentage_error: 27.6047\n",
      "Epoch 15/100\n",
      "35/35 [==============================] - 0s 826us/sample - loss: 0.0380 - mean_absolute_percentage_error: 35.2859 - val_loss: 0.0423 - val_mean_absolute_percentage_error: 26.1917\n",
      "Epoch 16/100\n",
      "35/35 [==============================] - 0s 724us/sample - loss: 0.0394 - mean_absolute_percentage_error: 33.7857 - val_loss: 0.0404 - val_mean_absolute_percentage_error: 24.4440\n",
      "Epoch 17/100\n",
      "35/35 [==============================] - 0s 671us/sample - loss: 0.0391 - mean_absolute_percentage_error: 33.6447 - val_loss: 0.0368 - val_mean_absolute_percentage_error: 24.8876\n",
      "Epoch 18/100\n",
      "35/35 [==============================] - 0s 752us/sample - loss: 0.0390 - mean_absolute_percentage_error: 39.0913 - val_loss: 0.0306 - val_mean_absolute_percentage_error: 25.0254\n",
      "Epoch 19/100\n",
      "35/35 [==============================] - 0s 808us/sample - loss: 0.0397 - mean_absolute_percentage_error: 40.4396 - val_loss: 0.0316 - val_mean_absolute_percentage_error: 24.8026\n",
      "Epoch 20/100\n",
      "35/35 [==============================] - 0s 781us/sample - loss: 0.0383 - mean_absolute_percentage_error: 39.0221 - val_loss: 0.0341 - val_mean_absolute_percentage_error: 26.1505\n",
      "Epoch 21/100\n",
      "35/35 [==============================] - 0s 668us/sample - loss: 0.0381 - mean_absolute_percentage_error: 37.9055 - val_loss: 0.0353 - val_mean_absolute_percentage_error: 25.8629\n",
      "Epoch 22/100\n",
      "35/35 [==============================] - 0s 716us/sample - loss: 0.0385 - mean_absolute_percentage_error: 37.9434 - val_loss: 0.0365 - val_mean_absolute_percentage_error: 24.8363\n",
      "Epoch 23/100\n",
      "35/35 [==============================] - 0s 632us/sample - loss: 0.0384 - mean_absolute_percentage_error: 37.1647 - val_loss: 0.0360 - val_mean_absolute_percentage_error: 25.6325\n",
      "Epoch 24/100\n",
      "35/35 [==============================] - 0s 684us/sample - loss: 0.0382 - mean_absolute_percentage_error: 36.5625 - val_loss: 0.0354 - val_mean_absolute_percentage_error: 26.1762\n",
      "Epoch 25/100\n",
      "35/35 [==============================] - 0s 677us/sample - loss: 0.0384 - mean_absolute_percentage_error: 37.5807 - val_loss: 0.0317 - val_mean_absolute_percentage_error: 24.9922\n",
      "Epoch 26/100\n",
      "35/35 [==============================] - 0s 634us/sample - loss: 0.0392 - mean_absolute_percentage_error: 39.7816 - val_loss: 0.0314 - val_mean_absolute_percentage_error: 23.6788\n",
      "Epoch 27/100\n",
      "35/35 [==============================] - 0s 677us/sample - loss: 0.0382 - mean_absolute_percentage_error: 37.7479 - val_loss: 0.0336 - val_mean_absolute_percentage_error: 25.8214\n",
      "Epoch 28/100\n",
      "35/35 [==============================] - 0s 635us/sample - loss: 0.0396 - mean_absolute_percentage_error: 39.1087 - val_loss: 0.0391 - val_mean_absolute_percentage_error: 28.0559\n",
      "Epoch 29/100\n",
      "35/35 [==============================] - 0s 681us/sample - loss: 0.0400 - mean_absolute_percentage_error: 32.6750 - val_loss: 0.0426 - val_mean_absolute_percentage_error: 24.6492\n",
      "Epoch 30/100\n",
      "35/35 [==============================] - 0s 696us/sample - loss: 0.0404 - mean_absolute_percentage_error: 35.4442 - val_loss: 0.0345 - val_mean_absolute_percentage_error: 25.2430\n",
      "Epoch 31/100\n",
      "35/35 [==============================] - 0s 799us/sample - loss: 0.0399 - mean_absolute_percentage_error: 42.5052 - val_loss: 0.0350 - val_mean_absolute_percentage_error: 26.3707\n",
      "Epoch 32/100\n",
      "35/35 [==============================] - 0s 674us/sample - loss: 0.0394 - mean_absolute_percentage_error: 32.0588 - val_loss: 0.0482 - val_mean_absolute_percentage_error: 26.7856\n",
      "Epoch 33/100\n",
      "35/35 [==============================] - 0s 671us/sample - loss: 0.0416 - mean_absolute_percentage_error: 36.8677 - val_loss: 0.0370 - val_mean_absolute_percentage_error: 26.2617\n",
      "Epoch 34/100\n",
      "35/35 [==============================] - 0s 655us/sample - loss: 0.0389 - mean_absolute_percentage_error: 36.6695 - val_loss: 0.0351 - val_mean_absolute_percentage_error: 25.8119\n",
      "Epoch 35/100\n",
      "35/35 [==============================] - 0s 644us/sample - loss: 0.0381 - mean_absolute_percentage_error: 37.4172 - val_loss: 0.0343 - val_mean_absolute_percentage_error: 26.7241\n",
      "Epoch 36/100\n",
      "35/35 [==============================] - 0s 736us/sample - loss: 0.0388 - mean_absolute_percentage_error: 40.5537 - val_loss: 0.0324 - val_mean_absolute_percentage_error: 26.5931\n",
      "Epoch 37/100\n",
      "35/35 [==============================] - 0s 678us/sample - loss: 0.0384 - mean_absolute_percentage_error: 39.3858 - val_loss: 0.0346 - val_mean_absolute_percentage_error: 24.6551\n",
      "Epoch 38/100\n",
      "35/35 [==============================] - 0s 687us/sample - loss: 0.0382 - mean_absolute_percentage_error: 37.2376 - val_loss: 0.0393 - val_mean_absolute_percentage_error: 24.0049\n",
      "Epoch 39/100\n",
      "35/35 [==============================] - 0s 678us/sample - loss: 0.0412 - mean_absolute_percentage_error: 32.9674 - val_loss: 0.0370 - val_mean_absolute_percentage_error: 24.2000\n",
      "Epoch 40/100\n",
      "35/35 [==============================] - 0s 664us/sample - loss: 0.0391 - mean_absolute_percentage_error: 41.1487 - val_loss: 0.0304 - val_mean_absolute_percentage_error: 25.3624\n",
      "Epoch 41/100\n",
      "35/35 [==============================] - 0s 743us/sample - loss: 0.0398 - mean_absolute_percentage_error: 42.0001 - val_loss: 0.0343 - val_mean_absolute_percentage_error: 25.7569\n",
      "Epoch 42/100\n",
      "35/35 [==============================] - 0s 778us/sample - loss: 0.0381 - mean_absolute_percentage_error: 38.6668 - val_loss: 0.0376 - val_mean_absolute_percentage_error: 27.1323\n",
      "Epoch 43/100\n",
      "35/35 [==============================] - 0s 698us/sample - loss: 0.0382 - mean_absolute_percentage_error: 37.3946 - val_loss: 0.0403 - val_mean_absolute_percentage_error: 26.5623\n",
      "Epoch 44/100\n",
      "35/35 [==============================] - 0s 651us/sample - loss: 0.0393 - mean_absolute_percentage_error: 33.6592 - val_loss: 0.0365 - val_mean_absolute_percentage_error: 24.2606\n",
      "Epoch 45/100\n",
      "35/35 [==============================] - 0s 645us/sample - loss: 0.0396 - mean_absolute_percentage_error: 35.6431 - val_loss: 0.0296 - val_mean_absolute_percentage_error: 24.2568\n",
      "Epoch 46/100\n",
      "35/35 [==============================] - 0s 696us/sample - loss: 0.0390 - mean_absolute_percentage_error: 40.5911 - val_loss: 0.0349 - val_mean_absolute_percentage_error: 26.9537\n",
      "Epoch 47/100\n",
      "35/35 [==============================] - 0s 900us/sample - loss: 0.0397 - mean_absolute_percentage_error: 38.6967 - val_loss: 0.0381 - val_mean_absolute_percentage_error: 27.8834\n",
      "Epoch 48/100\n",
      "35/35 [==============================] - 0s 695us/sample - loss: 0.0403 - mean_absolute_percentage_error: 40.7488 - val_loss: 0.0383 - val_mean_absolute_percentage_error: 23.7432\n",
      "Epoch 49/100\n",
      "35/35 [==============================] - 0s 717us/sample - loss: 0.0390 - mean_absolute_percentage_error: 34.6170 - val_loss: 0.0366 - val_mean_absolute_percentage_error: 25.7099\n",
      "Epoch 50/100\n",
      "35/35 [==============================] - 0s 870us/sample - loss: 0.0411 - mean_absolute_percentage_error: 37.6178 - val_loss: 0.0330 - val_mean_absolute_percentage_error: 27.1938\n",
      "Epoch 51/100\n",
      "35/35 [==============================] - 0s 756us/sample - loss: 0.0387 - mean_absolute_percentage_error: 40.9319 - val_loss: 0.0375 - val_mean_absolute_percentage_error: 25.5870\n",
      "Epoch 52/100\n",
      "35/35 [==============================] - 0s 750us/sample - loss: 0.0418 - mean_absolute_percentage_error: 39.4853 - val_loss: 0.0421 - val_mean_absolute_percentage_error: 24.4247\n",
      "Epoch 53/100\n",
      "35/35 [==============================] - 0s 788us/sample - loss: 0.0387 - mean_absolute_percentage_error: 41.1079 - val_loss: 0.0347 - val_mean_absolute_percentage_error: 27.6516\n",
      "Epoch 54/100\n",
      "35/35 [==============================] - 0s 816us/sample - loss: 0.0417 - mean_absolute_percentage_error: 45.7743 - val_loss: 0.0307 - val_mean_absolute_percentage_error: 25.7710\n",
      "Epoch 55/100\n",
      "35/35 [==============================] - 0s 719us/sample - loss: 0.0389 - mean_absolute_percentage_error: 40.6163 - val_loss: 0.0331 - val_mean_absolute_percentage_error: 22.6059\n",
      "Epoch 56/100\n",
      "35/35 [==============================] - 0s 796us/sample - loss: 0.0419 - mean_absolute_percentage_error: 33.3361 - val_loss: 0.0394 - val_mean_absolute_percentage_error: 24.5434\n",
      "Epoch 57/100\n",
      "35/35 [==============================] - 0s 675us/sample - loss: 0.0379 - mean_absolute_percentage_error: 32.3632 - val_loss: 0.0346 - val_mean_absolute_percentage_error: 28.2802\n",
      "Epoch 58/100\n",
      "35/35 [==============================] - 0s 975us/sample - loss: 0.0415 - mean_absolute_percentage_error: 42.8242 - val_loss: 0.0326 - val_mean_absolute_percentage_error: 26.0543\n",
      "Epoch 59/100\n",
      "35/35 [==============================] - 0s 669us/sample - loss: 0.0396 - mean_absolute_percentage_error: 35.1262 - val_loss: 0.0464 - val_mean_absolute_percentage_error: 23.1342\n",
      "Epoch 60/100\n",
      "35/35 [==============================] - 0s 757us/sample - loss: 0.0410 - mean_absolute_percentage_error: 33.7063 - val_loss: 0.0423 - val_mean_absolute_percentage_error: 27.7429\n",
      "Epoch 61/100\n",
      "35/35 [==============================] - 0s 805us/sample - loss: 0.0396 - mean_absolute_percentage_error: 40.5701 - val_loss: 0.0361 - val_mean_absolute_percentage_error: 28.5229\n",
      "Epoch 62/100\n",
      "35/35 [==============================] - 0s 1ms/sample - loss: 0.0424 - mean_absolute_percentage_error: 41.5852 - val_loss: 0.0309 - val_mean_absolute_percentage_error: 22.5578\n",
      "Epoch 63/100\n",
      "35/35 [==============================] - 0s 674us/sample - loss: 0.0386 - mean_absolute_percentage_error: 37.2645 - val_loss: 0.0360 - val_mean_absolute_percentage_error: 24.8106\n",
      "Epoch 64/100\n",
      "35/35 [==============================] - 0s 716us/sample - loss: 0.0409 - mean_absolute_percentage_error: 36.2904 - val_loss: 0.0455 - val_mean_absolute_percentage_error: 29.0923\n",
      "Epoch 65/100\n",
      "35/35 [==============================] - 0s 731us/sample - loss: 0.0432 - mean_absolute_percentage_error: 43.8714 - val_loss: 0.0334 - val_mean_absolute_percentage_error: 27.6204\n",
      "Epoch 66/100\n",
      "35/35 [==============================] - 0s 649us/sample - loss: 0.0422 - mean_absolute_percentage_error: 47.8032 - val_loss: 0.0334 - val_mean_absolute_percentage_error: 20.9902\n",
      "Epoch 67/100\n",
      "35/35 [==============================] - 0s 906us/sample - loss: 0.0415 - mean_absolute_percentage_error: 36.2853 - val_loss: 0.0326 - val_mean_absolute_percentage_error: 24.4588\n",
      "Epoch 68/100\n",
      "35/35 [==============================] - 0s 678us/sample - loss: 0.0371 - mean_absolute_percentage_error: 37.7962 - val_loss: 0.0389 - val_mean_absolute_percentage_error: 28.5098\n",
      "Epoch 69/100\n",
      "35/35 [==============================] - 0s 675us/sample - loss: 0.0395 - mean_absolute_percentage_error: 38.2019 - val_loss: 0.0427 - val_mean_absolute_percentage_error: 28.8511\n",
      "Epoch 70/100\n",
      "35/35 [==============================] - 0s 673us/sample - loss: 0.0399 - mean_absolute_percentage_error: 36.1976 - val_loss: 0.0415 - val_mean_absolute_percentage_error: 26.5284\n",
      "Epoch 71/100\n",
      "35/35 [==============================] - 0s 663us/sample - loss: 0.0378 - mean_absolute_percentage_error: 34.8055 - val_loss: 0.0316 - val_mean_absolute_percentage_error: 23.6727\n",
      "Epoch 72/100\n",
      "35/35 [==============================] - 0s 641us/sample - loss: 0.0395 - mean_absolute_percentage_error: 38.6054 - val_loss: 0.0296 - val_mean_absolute_percentage_error: 23.1205\n",
      "Epoch 73/100\n",
      "35/35 [==============================] - 0s 658us/sample - loss: 0.0400 - mean_absolute_percentage_error: 42.1685 - val_loss: 0.0361 - val_mean_absolute_percentage_error: 27.0867\n",
      "Epoch 74/100\n",
      "35/35 [==============================] - 0s 674us/sample - loss: 0.0380 - mean_absolute_percentage_error: 37.8014 - val_loss: 0.0447 - val_mean_absolute_percentage_error: 25.8171\n",
      "Epoch 75/100\n",
      "35/35 [==============================] - 0s 691us/sample - loss: 0.0409 - mean_absolute_percentage_error: 33.3442 - val_loss: 0.0449 - val_mean_absolute_percentage_error: 26.9463\n",
      "Epoch 76/100\n",
      "35/35 [==============================] - 0s 956us/sample - loss: 0.0389 - mean_absolute_percentage_error: 34.4400 - val_loss: 0.0324 - val_mean_absolute_percentage_error: 24.4327\n",
      "Epoch 77/100\n",
      "35/35 [==============================] - 0s 678us/sample - loss: 0.0386 - mean_absolute_percentage_error: 36.9492 - val_loss: 0.0308 - val_mean_absolute_percentage_error: 25.4985\n",
      "Epoch 78/100\n",
      "35/35 [==============================] - 0s 670us/sample - loss: 0.0396 - mean_absolute_percentage_error: 39.2027 - val_loss: 0.0301 - val_mean_absolute_percentage_error: 23.4169\n",
      "Epoch 79/100\n",
      "35/35 [==============================] - 0s 705us/sample - loss: 0.0389 - mean_absolute_percentage_error: 38.8427 - val_loss: 0.0322 - val_mean_absolute_percentage_error: 24.2110\n",
      "Epoch 80/100\n",
      "35/35 [==============================] - 0s 743us/sample - loss: 0.0378 - mean_absolute_percentage_error: 37.4581 - val_loss: 0.0378 - val_mean_absolute_percentage_error: 26.6263\n",
      "Epoch 81/100\n",
      "35/35 [==============================] - 0s 707us/sample - loss: 0.0388 - mean_absolute_percentage_error: 35.4535 - val_loss: 0.0455 - val_mean_absolute_percentage_error: 28.0387\n",
      "Epoch 82/100\n",
      "35/35 [==============================] - 0s 650us/sample - loss: 0.0397 - mean_absolute_percentage_error: 36.1303 - val_loss: 0.0357 - val_mean_absolute_percentage_error: 25.1957\n",
      "Epoch 83/100\n",
      "35/35 [==============================] - 0s 811us/sample - loss: 0.0385 - mean_absolute_percentage_error: 38.7578 - val_loss: 0.0314 - val_mean_absolute_percentage_error: 24.3773\n",
      "Epoch 84/100\n",
      "35/35 [==============================] - 0s 728us/sample - loss: 0.0384 - mean_absolute_percentage_error: 37.5197 - val_loss: 0.0352 - val_mean_absolute_percentage_error: 25.3775\n",
      "Epoch 85/100\n",
      "35/35 [==============================] - 0s 679us/sample - loss: 0.0394 - mean_absolute_percentage_error: 37.3282 - val_loss: 0.0381 - val_mean_absolute_percentage_error: 27.2179\n",
      "Epoch 86/100\n",
      "35/35 [==============================] - 0s 667us/sample - loss: 0.0381 - mean_absolute_percentage_error: 36.6569 - val_loss: 0.0329 - val_mean_absolute_percentage_error: 25.2801\n",
      "Epoch 87/100\n",
      "35/35 [==============================] - 0s 718us/sample - loss: 0.0391 - mean_absolute_percentage_error: 40.6502 - val_loss: 0.0279 - val_mean_absolute_percentage_error: 22.8830\n",
      "Epoch 88/100\n",
      "35/35 [==============================] - 0s 837us/sample - loss: 0.0399 - mean_absolute_percentage_error: 40.3445 - val_loss: 0.0337 - val_mean_absolute_percentage_error: 24.7839\n",
      "Epoch 89/100\n",
      "35/35 [==============================] - 0s 677us/sample - loss: 0.0382 - mean_absolute_percentage_error: 37.4946 - val_loss: 0.0481 - val_mean_absolute_percentage_error: 28.2170\n",
      "Epoch 90/100\n",
      "35/35 [==============================] - 0s 720us/sample - loss: 0.0400 - mean_absolute_percentage_error: 36.0338 - val_loss: 0.0419 - val_mean_absolute_percentage_error: 27.3621\n",
      "Epoch 91/100\n",
      "35/35 [==============================] - 0s 617us/sample - loss: 0.0391 - mean_absolute_percentage_error: 35.8857 - val_loss: 0.0324 - val_mean_absolute_percentage_error: 23.9461\n",
      "Epoch 92/100\n",
      "35/35 [==============================] - 0s 701us/sample - loss: 0.0397 - mean_absolute_percentage_error: 40.2459 - val_loss: 0.0304 - val_mean_absolute_percentage_error: 23.9141\n",
      "Epoch 93/100\n",
      "35/35 [==============================] - 0s 626us/sample - loss: 0.0398 - mean_absolute_percentage_error: 38.5679 - val_loss: 0.0395 - val_mean_absolute_percentage_error: 26.4940\n",
      "Epoch 94/100\n",
      "35/35 [==============================] - 0s 748us/sample - loss: 0.0391 - mean_absolute_percentage_error: 34.6138 - val_loss: 0.0363 - val_mean_absolute_percentage_error: 24.9717\n",
      "Epoch 95/100\n",
      "35/35 [==============================] - 0s 692us/sample - loss: 0.0382 - mean_absolute_percentage_error: 35.4741 - val_loss: 0.0342 - val_mean_absolute_percentage_error: 26.1449\n",
      "Epoch 96/100\n",
      "35/35 [==============================] - 0s 662us/sample - loss: 0.0393 - mean_absolute_percentage_error: 39.5697 - val_loss: 0.0320 - val_mean_absolute_percentage_error: 24.9750\n",
      "Epoch 97/100\n",
      "35/35 [==============================] - 0s 644us/sample - loss: 0.0395 - mean_absolute_percentage_error: 38.5554 - val_loss: 0.0372 - val_mean_absolute_percentage_error: 26.9449\n",
      "Epoch 98/100\n",
      "35/35 [==============================] - 0s 675us/sample - loss: 0.0430 - mean_absolute_percentage_error: 37.0881 - val_loss: 0.0346 - val_mean_absolute_percentage_error: 22.9008\n",
      "Epoch 99/100\n",
      "35/35 [==============================] - 0s 715us/sample - loss: 0.0422 - mean_absolute_percentage_error: 34.1944 - val_loss: 0.0338 - val_mean_absolute_percentage_error: 27.3413\n",
      "Epoch 100/100\n",
      "35/35 [==============================] - 0s 711us/sample - loss: 0.0389 - mean_absolute_percentage_error: 39.3782 - val_loss: 0.0333 - val_mean_absolute_percentage_error: 24.8787\n"
     ]
    },
    {
     "data": {
      "text/plain": [
       "<tensorflow.python.keras.callbacks.History at 0x7f9fad2f7a58>"
      ]
     },
     "execution_count": 45,
     "metadata": {
      "tags": []
     },
     "output_type": "execute_result"
    }
   ],
   "source": [
    "# Training\n",
    "model.fit(x=standardized_X_train, \n",
    "          y=standardized_y_train,\n",
    "          validation_data=(standardized_X_val, standardized_y_val),\n",
    "          epochs=NUM_EPOCHS,\n",
    "          batch_size=BATCH_SIZE,\n",
    "          shuffle=SHUFFLE,\n",
    "          verbose=1)"
   ]
  },
  {
   "cell_type": "code",
   "execution_count": 0,
   "metadata": {
    "colab": {},
    "colab_type": "code",
    "id": "pNB5k_MIoPGv"
   },
   "outputs": [],
   "source": [
    "# Predictions\n",
    "pred_train = model.predict(standardized_X_train)\n",
    "pred_test = model.predict(standardized_X_test)"
   ]
  },
  {
   "cell_type": "code",
   "execution_count": 0,
   "metadata": {
    "colab": {
     "base_uri": "https://localhost:8080/",
     "height": 34
    },
    "colab_type": "code",
    "id": "f8jVRQhuoPEI",
    "outputId": "591d72a8-8f52-4b3d-cfa8-c6bba55f04ba"
   },
   "outputs": [
    {
     "name": "stdout",
     "output_type": "stream",
     "text": [
      "train_MSE: 0.03, test_MSE: 2.24\n"
     ]
    }
   ],
   "source": [
    "# Train and test MSE\n",
    "train_mse = np.mean((standardized_y_train - pred_train) ** 2)\n",
    "test_mse = np.mean((standardized_y_test - pred_test) ** 2)\n",
    "print (f\"train_MSE: {train_mse:.2f}, test_MSE: {test_mse:.2f}\")"
   ]
  },
  {
   "cell_type": "code",
   "execution_count": 0,
   "metadata": {
    "colab": {
     "base_uri": "https://localhost:8080/",
     "height": 51
    },
    "colab_type": "code",
    "id": "-4X3GZEdoR-8",
    "outputId": "eea237a4-a2b3-4d40-f24f-6c64082fda37"
   },
   "outputs": [
    {
     "name": "stdout",
     "output_type": "stream",
     "text": [
      "[actual] y = 3.5X + noise\n",
      "[model] y_hat = 3.4X + 9.5\n"
     ]
    }
   ],
   "source": [
    "# Unstandardize coefficients (proof is in the `From Scratch` section above)\n",
    "W = model.layers[0].get_weights()[0][0][0]\n",
    "b = model.layers[0].get_weights()[1][0]\n",
    "W_unscaled = W * (y_scaler.scale_/X_scaler.scale_)\n",
    "b_unscaled = b * y_scaler.scale_ + y_scaler.mean_ - np.sum(W_unscaled*X_scaler.mean_)\n",
    "print (\"[actual] y = 3.5X + noise\")\n",
    "print (f\"[model] y_hat = {W_unscaled[0]:.1f}X + {b_unscaled[0]:.1f}\") "
   ]
  },
  {
   "cell_type": "markdown",
   "metadata": {
    "colab_type": "text",
    "id": "mdNX2W5eh2ma"
   },
   "source": [
    "Regularization didn't help much with this specific example because our data is generated from a perfect linear equation but for large realistic data, regularization can help our model generalize well."
   ]
  },
  {
   "cell_type": "markdown",
   "metadata": {
    "colab_type": "text",
    "id": "V74lNFE5v5pQ"
   },
   "source": [
    "# Categorical variables"
   ]
  },
  {
   "cell_type": "markdown",
   "metadata": {
    "colab_type": "text",
    "id": "2r6Xhyg7v5vX"
   },
   "source": [
    "In our example, the feature was a continuous variable but what if we also have features that are categorical? One option is to treat the categorical variables as one-hot encoded variables. This is very easy to do with Pandas and once you create the dummy variables, you can use the same steps as above to train your linear model."
   ]
  },
  {
   "cell_type": "code",
   "execution_count": 0,
   "metadata": {
    "colab": {
     "base_uri": "https://localhost:8080/",
     "height": 173
    },
    "colab_type": "code",
    "id": "unhcIOfMxQEQ",
    "outputId": "458bfea8-d946-4cd6-cf1c-5943a952008c"
   },
   "outputs": [
    {
     "data": {
      "text/html": [
       "<div>\n",
       "<style scoped>\n",
       "    .dataframe tbody tr th:only-of-type {\n",
       "        vertical-align: middle;\n",
       "    }\n",
       "\n",
       "    .dataframe tbody tr th {\n",
       "        vertical-align: top;\n",
       "    }\n",
       "\n",
       "    .dataframe thead th {\n",
       "        text-align: right;\n",
       "    }\n",
       "</style>\n",
       "<table border=\"1\" class=\"dataframe\">\n",
       "  <thead>\n",
       "    <tr style=\"text-align: right;\">\n",
       "      <th></th>\n",
       "      <th>favorite_letter</th>\n",
       "    </tr>\n",
       "  </thead>\n",
       "  <tbody>\n",
       "    <tr>\n",
       "      <th>0</th>\n",
       "      <td>a</td>\n",
       "    </tr>\n",
       "    <tr>\n",
       "      <th>1</th>\n",
       "      <td>b</td>\n",
       "    </tr>\n",
       "    <tr>\n",
       "      <th>2</th>\n",
       "      <td>c</td>\n",
       "    </tr>\n",
       "    <tr>\n",
       "      <th>3</th>\n",
       "      <td>a</td>\n",
       "    </tr>\n",
       "  </tbody>\n",
       "</table>\n",
       "</div>"
      ],
      "text/plain": [
       "  favorite_letter\n",
       "0               a\n",
       "1               b\n",
       "2               c\n",
       "3               a"
      ]
     },
     "execution_count": 49,
     "metadata": {
      "tags": []
     },
     "output_type": "execute_result"
    }
   ],
   "source": [
    "# Create data with categorical features\n",
    "cat_data = pd.DataFrame(['a', 'b', 'c', 'a'], columns=['favorite_letter'])\n",
    "cat_data.head()"
   ]
  },
  {
   "cell_type": "code",
   "execution_count": 0,
   "metadata": {
    "colab": {
     "base_uri": "https://localhost:8080/",
     "height": 173
    },
    "colab_type": "code",
    "id": "m4eQmJdrxQGr",
    "outputId": "b6bf3b36-c210-4587-b73a-617c9da6f6ed"
   },
   "outputs": [
    {
     "data": {
      "text/html": [
       "<div>\n",
       "<style scoped>\n",
       "    .dataframe tbody tr th:only-of-type {\n",
       "        vertical-align: middle;\n",
       "    }\n",
       "\n",
       "    .dataframe tbody tr th {\n",
       "        vertical-align: top;\n",
       "    }\n",
       "\n",
       "    .dataframe thead th {\n",
       "        text-align: right;\n",
       "    }\n",
       "</style>\n",
       "<table border=\"1\" class=\"dataframe\">\n",
       "  <thead>\n",
       "    <tr style=\"text-align: right;\">\n",
       "      <th></th>\n",
       "      <th>favorite_letter_a</th>\n",
       "      <th>favorite_letter_b</th>\n",
       "      <th>favorite_letter_c</th>\n",
       "    </tr>\n",
       "  </thead>\n",
       "  <tbody>\n",
       "    <tr>\n",
       "      <th>0</th>\n",
       "      <td>1</td>\n",
       "      <td>0</td>\n",
       "      <td>0</td>\n",
       "    </tr>\n",
       "    <tr>\n",
       "      <th>1</th>\n",
       "      <td>0</td>\n",
       "      <td>1</td>\n",
       "      <td>0</td>\n",
       "    </tr>\n",
       "    <tr>\n",
       "      <th>2</th>\n",
       "      <td>0</td>\n",
       "      <td>0</td>\n",
       "      <td>1</td>\n",
       "    </tr>\n",
       "    <tr>\n",
       "      <th>3</th>\n",
       "      <td>1</td>\n",
       "      <td>0</td>\n",
       "      <td>0</td>\n",
       "    </tr>\n",
       "  </tbody>\n",
       "</table>\n",
       "</div>"
      ],
      "text/plain": [
       "   favorite_letter_a  favorite_letter_b  favorite_letter_c\n",
       "0                  1                  0                  0\n",
       "1                  0                  1                  0\n",
       "2                  0                  0                  1\n",
       "3                  1                  0                  0"
      ]
     },
     "execution_count": 50,
     "metadata": {
      "tags": []
     },
     "output_type": "execute_result"
    }
   ],
   "source": [
    "dummy_cat_data = pd.get_dummies(cat_data)\n",
    "dummy_cat_data.head()"
   ]
  },
  {
   "cell_type": "markdown",
   "metadata": {
    "colab_type": "text",
    "id": "B5R8x-KyiBWJ"
   },
   "source": [
    "Now you can concat this with your continuous features and train the linear model."
   ]
  },
  {
   "cell_type": "markdown",
   "metadata": {
    "colab_type": "text",
    "id": "XwSZgi_pCb3Q"
   },
   "source": [
    "---\n",
    "<div align=\"center\">\n",
    "\n",
    "Subscribe to our <a href=\"https://practicalai.me/#newsletter\">newsletter</a> and follow us on social media to get the latest updates!\n",
    "\n",
    "<a class=\"ai-header-badge\" target=\"_blank\" href=\"https://github.com/practicalAI/practicalAI\">\n",
    "              <img src=\"https://img.shields.io/github/stars/practicalAI/practicalAI.svg?style=social&label=Star\"></a>&nbsp;\n",
    "            <a class=\"ai-header-badge\" target=\"_blank\" href=\"https://www.linkedin.com/company/practicalai-me\">\n",
    "              <img src=\"https://img.shields.io/badge/style--5eba00.svg?label=LinkedIn&logo=linkedin&style=social\"></a>&nbsp;\n",
    "            <a class=\"ai-header-badge\" target=\"_blank\" href=\"https://twitter.com/practicalAIme\">\n",
    "              <img src=\"https://img.shields.io/twitter/follow/practicalAIme.svg?label=Follow&style=social\">\n",
    "            </a>\n",
    "              </div>\n",
    "\n",
    "</div>"
   ]
  }
 ],
 "metadata": {
  "colab": {
   "collapsed_sections": [
    "sdruDHf_laWg"
   ],
   "name": "04_Linear_Regression",
   "provenance": [],
   "toc_visible": true
  },
  "kernelspec": {
   "display_name": "Python 3",
   "language": "python",
   "name": "python3"
  },
  "language_info": {
   "codemirror_mode": {
    "name": "ipython",
    "version": 3
   },
   "file_extension": ".py",
   "mimetype": "text/x-python",
   "name": "python",
   "nbconvert_exporter": "python",
   "pygments_lexer": "ipython3",
   "version": "3.8.1"
  }
 },
 "nbformat": 4,
 "nbformat_minor": 1
}
